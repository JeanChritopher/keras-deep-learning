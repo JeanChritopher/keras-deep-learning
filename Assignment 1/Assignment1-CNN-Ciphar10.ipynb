{
 "cells": [
  {
   "cell_type": "code",
   "execution_count": 1,
   "metadata": {},
   "outputs": [
    {
     "name": "stderr",
     "output_type": "stream",
     "text": [
      "/home/ubuntu/anaconda3/envs/tensorflow_p36/lib/python3.6/site-packages/h5py/__init__.py:36: FutureWarning: Conversion of the second argument of issubdtype from `float` to `np.floating` is deprecated. In future, it will be treated as `np.float64 == np.dtype(float).type`.\n",
      "  from ._conv import register_converters as _register_converters\n",
      "Using TensorFlow backend.\n",
      "/home/ubuntu/anaconda3/envs/tensorflow_p36/lib/python3.6/site-packages/matplotlib/__init__.py:962: UserWarning: Duplicate key in file \"/home/ubuntu/.config/matplotlib/matplotlibrc\", line #2\n",
      "  (fname, cnt))\n",
      "/home/ubuntu/anaconda3/envs/tensorflow_p36/lib/python3.6/site-packages/matplotlib/__init__.py:962: UserWarning: Duplicate key in file \"/home/ubuntu/.config/matplotlib/matplotlibrc\", line #3\n",
      "  (fname, cnt))\n"
     ]
    }
   ],
   "source": [
    "from __future__ import print_function\n",
    "import keras\n",
    "from keras.datasets import cifar10\n",
    "from keras.preprocessing.image import ImageDataGenerator\n",
    "from keras.models import Sequential\n",
    "from keras.layers import Dense, Dropout, Activation, Flatten\n",
    "from keras.layers import Conv2D, MaxPooling2D\n",
    "import os"
   ]
  },
  {
   "cell_type": "code",
   "execution_count": 2,
   "metadata": {},
   "outputs": [
    {
     "name": "stdout",
     "output_type": "stream",
     "text": [
      "x_train shape: (50000, 32, 32, 3)\n",
      "50000 train samples\n",
      "10000 test samples\n"
     ]
    }
   ],
   "source": [
    "# The data, shuffled and split between train and test sets:\n",
    "(x_train, y_train), (x_test, y_test) = cifar10.load_data()\n",
    "print('x_train shape:', x_train.shape)\n",
    "print(x_train.shape[0], 'train samples')\n",
    "print(x_test.shape[0], 'test samples')"
   ]
  },
  {
   "cell_type": "code",
   "execution_count": 3,
   "metadata": {},
   "outputs": [],
   "source": [
    "def str_to_bool(s):\n",
    "    if s == 'True':\n",
    "         return True\n",
    "    elif s == 'False':\n",
    "         return False\n",
    "    else:\n",
    "         print(\"Incorrect boolean value\")"
   ]
  },
  {
   "cell_type": "code",
   "execution_count": 4,
   "metadata": {},
   "outputs": [
    {
     "name": "stdout",
     "output_type": "stream",
     "text": [
      "['Layer1', 'Layer2', 'Layer3', 'Compile', 'Others']\n",
      "Layer 1 parameters :\n",
      "Count 1 : 32\n",
      "Incorrect parameters\n"
     ]
    }
   ],
   "source": [
    "def ConfigSectionMap(section):\n",
    "    #print(section)\n",
    "    dict1 = {}\n",
    "    options = config.options(section)\n",
    "    #print(options)\n",
    "    for option in options:\n",
    "        try:\n",
    "            dict1[option] = config.get(section, option)\n",
    "            if dict1[option] == -1:\n",
    "                DebugPrint(\"skip: %s\" % option)\n",
    "        except:\n",
    "            print(\"exception on %s!\" % option)\n",
    "            dict1[option] = None\n",
    "    return dict1\n",
    "\n",
    "import configparser\n",
    "config = configparser.ConfigParser()\n",
    "config.read('CNNConfig.INI')\n",
    "print(config.sections())\n",
    "try:\n",
    "    count1_1 = int(ConfigSectionMap(\"Layer1\")['count1'])\n",
    "    filter1_1 = int(ConfigSectionMap(\"Layer1\")['filter1'])\n",
    "    count1_2 = int(ConfigSectionMap(\"Layer1\")['count2'])\n",
    "    filter1_2 = int(ConfigSectionMap(\"Layer1\")['filter2'])\n",
    "    max_pool_size1 = int(ConfigSectionMap(\"Layer1\")['max_pool_size'])\n",
    "    dropout1 = float(ConfigSectionMap(\"Layer1\")['dropout'])\n",
    "    print(\"Layer 1 parameters :\")\n",
    "    print(\"Count 1 :\", count1_1)\n",
    "    print(\"Activation 1 :\", activation1_1)\n",
    "    print(\"Filter 1 :\", filter1_1)\n",
    "    print(\"Count 2 :\", count1_2)\n",
    "    print(\"Activation 2 :\", activation1_2)\n",
    "    print(\"Filter 2 :\", filter1_2)\n",
    "    print(\"Max Pool Size :\", max_pool_size1)\n",
    "    print(\"Dropout :\", dropout1)\n",
    "    print()\n",
    "    \n",
    "    count2_1 = int(ConfigSectionMap(\"Layer2\")['count1'])\n",
    "    filter2_1 = int(ConfigSectionMap(\"Layer2\")['filter1'])\n",
    "    count2_2 = int(ConfigSectionMap(\"Layer2\")['count2'])\n",
    "    filter2_2 = int(ConfigSectionMap(\"Layer2\")['filter2'])\n",
    "    max_pool_size2 = int(ConfigSectionMap(\"Layer2\")['max_pool_size'])\n",
    "    dropout2 = float(ConfigSectionMap(\"Layer2\")['dropout'])\n",
    "    print(\"Layer 2 parameters :\")\n",
    "    print(\"Count 1 :\" ,count2_1)\n",
    "    print(\"Activation 1 :\" ,activation2_1)\n",
    "    print(\"Filter 1 :\" ,filter2_1)\n",
    "    print(\"Count 2 :\", count2_2)\n",
    "    print(\"Activation 2 :\" ,activation2_2)\n",
    "    print(\"Filter 2 :\" ,filter2_2)\n",
    "    print(\"Max Pool Size :\", max_pool_size2)\n",
    "    print(\"Dropout :\" ,dropout2)\n",
    "    print()\n",
    "    \n",
    "    count3_1 = int(ConfigSectionMap(\"Layer3\")['count1'])\n",
    "    dropout3 = float(ConfigSectionMap(\"Layer3\")['dropout'])\n",
    "    print(\"Layer 3 parameters :\")\n",
    "    print(\"Count 1 :\" ,count3_1)\n",
    "    print(\"Activation 1 :\", activation3_1)\n",
    "    print(\"Dropout :\" ,dropout3)\n",
    "    print(\"Activation 2 :\", activation3_2)\n",
    "    print()\n",
    "    \n",
    "    epochs = int(ConfigSectionMap(\"Others\")['epoch'])\n",
    "    data_augmentation = str_to_bool(ConfigSectionMap(\"Others\")['data_augmentation'])\n",
    "    learning_rate = float(ConfigSectionMap(\"Others\")['learning_rate'])\n",
    "    decay = float(ConfigSectionMap(\"Others\")['decay'])\n",
    "    loss = ConfigSectionMap(\"Compile\")['loss']\n",
    "    metrics = ConfigSectionMap(\"Compile\")['metrics']\n",
    "    batch_size = int(ConfigSectionMap(\"Others\")['batch_size'])\n",
    "    workers = int(ConfigSectionMap(\"Others\")['workers'])\n",
    "    num_classes = int(ConfigSectionMap(\"Others\")['num_classes'])\n",
    "    print(\"Other parameters :\")\n",
    "    #print(ConfigSectionMap(\"Others\"))\n",
    "    #print(\"optimizer :\" ,optimizers)\n",
    "    print(\"loss :\", loss)\n",
    "    print(\"metrics :\", metrics)\n",
    "    print(\"batch_size :\", batch_size)\n",
    "    print(\"epochs :\" ,epochs)\n",
    "    print(\"data_aug :\", data_aug)\n",
    "    print(\"learning_rate :\" ,learning_rate)\n",
    "    print(\"decay :\", decay)\n",
    "    print(\"workers :\",workers)\n",
    "    print(\"num_classes :\",num_classes)\n",
    "    print()\n",
    "    \n",
    "    print(\"All parameters loaded from config file\")\n",
    "except:\n",
    "    print(\"Incorrect parameters\")"
   ]
  },
  {
   "cell_type": "code",
   "execution_count": 5,
   "metadata": {},
   "outputs": [
    {
     "ename": "NameError",
     "evalue": "name 'num_classes' is not defined",
     "output_type": "error",
     "traceback": [
      "\u001b[0;31m---------------------------------------------------------------------------\u001b[0m",
      "\u001b[0;31mNameError\u001b[0m                                 Traceback (most recent call last)",
      "\u001b[0;32m<ipython-input-5-449aa8a22818>\u001b[0m in \u001b[0;36m<module>\u001b[0;34m()\u001b[0m\n\u001b[1;32m      1\u001b[0m \u001b[0;31m# Convert class vectors to binary class matrices.\u001b[0m\u001b[0;34m\u001b[0m\u001b[0;34m\u001b[0m\u001b[0m\n\u001b[0;32m----> 2\u001b[0;31m \u001b[0my_train\u001b[0m \u001b[0;34m=\u001b[0m \u001b[0mkeras\u001b[0m\u001b[0;34m.\u001b[0m\u001b[0mutils\u001b[0m\u001b[0;34m.\u001b[0m\u001b[0mto_categorical\u001b[0m\u001b[0;34m(\u001b[0m\u001b[0my_train\u001b[0m\u001b[0;34m,\u001b[0m \u001b[0mnum_classes\u001b[0m\u001b[0;34m)\u001b[0m\u001b[0;34m\u001b[0m\u001b[0m\n\u001b[0m\u001b[1;32m      3\u001b[0m \u001b[0my_test\u001b[0m \u001b[0;34m=\u001b[0m \u001b[0mkeras\u001b[0m\u001b[0;34m.\u001b[0m\u001b[0mutils\u001b[0m\u001b[0;34m.\u001b[0m\u001b[0mto_categorical\u001b[0m\u001b[0;34m(\u001b[0m\u001b[0my_test\u001b[0m\u001b[0;34m,\u001b[0m \u001b[0mnum_classes\u001b[0m\u001b[0;34m)\u001b[0m\u001b[0;34m\u001b[0m\u001b[0m\n",
      "\u001b[0;31mNameError\u001b[0m: name 'num_classes' is not defined"
     ]
    }
   ],
   "source": [
    "# Convert class vectors to binary class matrices.\n",
    "y_train = keras.utils.to_categorical(y_train, num_classes)\n",
    "y_test = keras.utils.to_categorical(y_test, num_classes)"
   ]
  },
  {
   "cell_type": "code",
   "execution_count": null,
   "metadata": {},
   "outputs": [],
   "source": [
    "model = Sequential()\n",
    "model.add(Conv2D(count1_1, (filter1_1, filter1_1), padding='same',\n",
    "                 input_shape=x_train.shape[1:]))\n",
    "model.add(Activation('relu'))\n",
    "model.add(Conv2D(count1_2, (filter1_2, filter1_2)))\n",
    "model.add(Activation('relu'))\n",
    "model.add(MaxPooling2D(pool_size=(max_pool_size1, max_pool_size1)))\n",
    "model.add(Dropout(dropout1))\n",
    "\n",
    "model.add(Conv2D(count2_1, (filter2_1, filter2_1), padding='same'))\n",
    "model.add(Activation('relu'))\n",
    "model.add(Conv2D(count2_2, (filter2_2, filter2_2)))\n",
    "model.add(Activation('relu'))\n",
    "model.add(MaxPooling2D(pool_size=(max_pool_size2, max_pool_size2)))\n",
    "model.add(Dropout(dropout2))\n",
    "\n",
    "model.add(Flatten())\n",
    "model.add(Dense(count3_1))\n",
    "model.add(Activation('relu'))\n",
    "model.add(Dropout(dropout3))\n",
    "model.add(Dense(num_classes))\n",
    "model.add(Activation('softmax'))"
   ]
  },
  {
   "cell_type": "code",
   "execution_count": null,
   "metadata": {},
   "outputs": [],
   "source": [
    "# initiate RMSprop optimizer\n",
    "opt = keras.optimizers.rmsprop(lr=0.0001, decay=1e-6)\n",
    "\n",
    "# Let's train the model using RMSprop\n",
    "model.compile(loss='categorical_crossentropy',\n",
    "              optimizer=opt,\n",
    "              metrics=['accuracy'])"
   ]
  },
  {
   "cell_type": "code",
   "execution_count": null,
   "metadata": {},
   "outputs": [],
   "source": [
    "x_train = x_train.astype('float32')\n",
    "x_test = x_test.astype('float32')\n",
    "x_train /= 255\n",
    "x_test /= 255\n",
    "\n",
    "print(x_train.shape)\n",
    "print(x_test.shape)"
   ]
  },
  {
   "cell_type": "code",
   "execution_count": null,
   "metadata": {},
   "outputs": [],
   "source": [
    "if not data_augmentation:\n",
    "    print('Not using data augmentation.')\n",
    "    model.fit(x_train, y_train,\n",
    "              batch_size=batch_size,\n",
    "              epochs=epochs,\n",
    "              validation_data=(x_test, y_test),\n",
    "              shuffle=True)\n",
    "else:\n",
    "    print('Using real-time data augmentation.')\n",
    "    # This will do preprocessing and realtime data augmentation:\n",
    "    datagen = ImageDataGenerator(\n",
    "        featurewise_center=False,  # set input mean to 0 over the dataset\n",
    "        samplewise_center=False,  # set each sample mean to 0\n",
    "        featurewise_std_normalization=False,  # divide inputs by std of the dataset\n",
    "        samplewise_std_normalization=False,  # divide each input by its std\n",
    "        zca_whitening=False,  # apply ZCA whitening\n",
    "        rotation_range=0,  # randomly rotate images in the range (degrees, 0 to 180)\n",
    "        width_shift_range=0.1,  # randomly shift images horizontally (fraction of total width)\n",
    "        height_shift_range=0.1,  # randomly shift images vertically (fraction of total height)\n",
    "        horizontal_flip=True,  # randomly flip images\n",
    "        vertical_flip=False)  # randomly flip images\n",
    "\n",
    "    # Compute quantities required for feature-wise normalization\n",
    "    # (std, mean, and principal components if ZCA whitening is applied).\n",
    "    datagen.fit(x_train)\n",
    "\n",
    "    # Fit the model on the batches generated by datagen.flow().\n",
    "    history = model.fit_generator(datagen.flow(x_train, y_train,\n",
    "                                     batch_size=batch_size),\n",
    "                        epochs=epochs,\n",
    "                        validation_data=(x_test, y_test),\n",
    "                        workers=workers)\n"
   ]
  },
  {
   "cell_type": "code",
   "execution_count": null,
   "metadata": {},
   "outputs": [],
   "source": [
    "# Score trained model.\n",
    "scores = model.evaluate(x_test, y_test, verbose=1)\n",
    "print('Test loss:', scores[0])\n",
    "print('Test accuracy:', scores[1])"
   ]
  },
  {
   "cell_type": "code",
   "execution_count": null,
   "metadata": {},
   "outputs": [],
   "source": [
    "import matplotlib.pyplot as plt\n",
    "\n",
    "loss = history.history['loss']\n",
    "val_loss = history.history['val_loss']\n",
    "\n",
    "epochs = range(1, len(loss) + 1)\n",
    "\n",
    "plt.plot(epochs, loss, 'bo', label='Training loss')\n",
    "plt.plot(epochs, val_loss, 'b', label='Validation loss')\n",
    "plt.title('Training and validation loss')\n",
    "plt.xlabel('Epochs')\n",
    "plt.ylabel('Loss')\n",
    "plt.legend()\n",
    "\n",
    "plt.show()"
   ]
  },
  {
   "cell_type": "code",
   "execution_count": null,
   "metadata": {},
   "outputs": [],
   "source": [
    "plt.clf()   # clear figure\n",
    "\n",
    "acc = history.history['acc']\n",
    "val_acc = history.history['val_acc']\n",
    "\n",
    "plt.plot(epochs, acc, 'bo', label='Training acc')\n",
    "plt.plot(epochs, val_acc, 'b', label='Validation acc')\n",
    "plt.title('Training and validation accuracy')\n",
    "plt.xlabel('Epochs')\n",
    "plt.ylabel('Loss')\n",
    "plt.legend()\n",
    "\n",
    "plt.show()"
   ]
  },
  {
   "cell_type": "code",
   "execution_count": null,
   "metadata": {},
   "outputs": [],
   "source": []
  }
 ],
 "metadata": {
  "kernelspec": {
   "display_name": "Python [conda env:tensorflow_p36]",
   "language": "python",
   "name": "conda-env-tensorflow_p36-py"
  },
  "language_info": {
   "codemirror_mode": {
    "name": "ipython",
    "version": 3
   },
   "file_extension": ".py",
   "mimetype": "text/x-python",
   "name": "python",
   "nbconvert_exporter": "python",
   "pygments_lexer": "ipython3",
   "version": "3.6.4"
  }
 },
 "nbformat": 4,
 "nbformat_minor": 2
}
