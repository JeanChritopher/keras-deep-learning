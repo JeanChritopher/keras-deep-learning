{
 "cells": [
  {
   "cell_type": "code",
   "execution_count": 1,
   "metadata": {
    "collapsed": true
   },
   "outputs": [],
   "source": [
    "import os\n",
    "import sys\n",
    "import argparse\n",
    "import csv\n",
    "import numpy as np\n",
    "import imageio\n",
    "imageio.plugins.ffmpeg.download()\n",
    "from random import randint\n",
    "from PIL import Image "
   ]
  },
  {
   "cell_type": "markdown",
   "metadata": {},
   "source": [
    "#### 1) Download dataset and extract files. It consists of 3 second clips and annotations in XML format\n",
    "#### 2) Load main folder in python list with data as path to video and label as category it belongs\n",
    "#### 3) Split python list into training and test sets (80-20)\n",
    "#### 4) Store the 2 lists in csv files"
   ]
  },
  {
   "cell_type": "code",
   "execution_count": 2,
   "metadata": {
    "collapsed": true
   },
   "outputs": [],
   "source": [
    "def load_groups(input_folder):\n",
    "    '''\n",
    "    Loading the list of sub-folders into a python list with their\n",
    "    corresponding label.\n",
    "    '''\n",
    "    groups         = []\n",
    "    label_folders  = os.listdir(input_folder)\n",
    "    index          = 0\n",
    "    for label_folder in sorted(label_folders):\n",
    "        label_folder_path = os.path.join(input_folder, label_folder)\n",
    "        if os.path.isdir(label_folder_path):\n",
    "            group_folders = os.listdir(label_folder_path)\n",
    "            for group_folder in group_folders:\n",
    "                if group_folder != 'Annotation':\n",
    "                    groups.append([os.path.join(label_folder_path, group_folder), index])\n",
    "            index += 1\n",
    "\n",
    "    return groups"
   ]
  },
  {
   "cell_type": "code",
   "execution_count": 3,
   "metadata": {
    "collapsed": true
   },
   "outputs": [],
   "source": [
    "def split_data(groups, file_ext):\n",
    "    '''\n",
    "    Spliting the data at random for train, eval and test set.\n",
    "    '''\n",
    "    group_count = len(groups)\n",
    "    indices = np.arange(group_count)\n",
    "\n",
    "    np.random.seed(0) # Make it deterministic.\n",
    "    np.random.shuffle(indices)\n",
    "\n",
    "    # 80% training and 20% test.\n",
    "    train_count = int(0.8 * group_count)\n",
    "    test_count  = group_count - train_count\n",
    "\n",
    "    train = []\n",
    "    test  = []\n",
    "\n",
    "    for i in range(train_count):\n",
    "        group = groups[indices[i]]\n",
    "        print(\"Current category\",group)\n",
    "        video_files = os.listdir(group[0])\n",
    "        for video_file in video_files:\n",
    "            video_file_path = os.path.join(group[0], video_file)\n",
    "            if os.path.isfile(video_file_path):\n",
    "                video_file_path = os.path.abspath(video_file_path)\n",
    "                ext = os.path.splitext(video_file_path)[1]\n",
    "                if (ext == file_ext):\n",
    "                    # make sure we have enough frames and the file isn't corrupt\n",
    "                    video_reader = imageio.get_reader(video_file_path, 'ffmpeg')                    \n",
    "                    if len(video_reader) >= 16:\n",
    "                        train.append([video_file_path, group[1]])\n",
    "\n",
    "    for i in range(train_count, train_count + test_count):\n",
    "        group = groups[indices[i]]\n",
    "        video_files = os.listdir(group[0])\n",
    "        for video_file in video_files:\n",
    "            video_file_path = os.path.join(group[0], video_file)\n",
    "            if os.path.isfile(video_file_path):\n",
    "                video_file_path = os.path.abspath(video_file_path)\n",
    "                ext = os.path.splitext(video_file_path)[1]\n",
    "                if (ext == file_ext):\n",
    "                    # make sure we have enough frames and the file isn't corrupt\n",
    "                    video_reader = imageio.get_reader(video_file_path, 'ffmpeg')\n",
    "                    if len(video_reader) >= 16:\n",
    "                        test.append([video_file_path, group[1]])\n",
    "\n",
    "    return train, test"
   ]
  },
  {
   "cell_type": "code",
   "execution_count": 4,
   "metadata": {
    "collapsed": true
   },
   "outputs": [],
   "source": [
    "def write_to_csv(items, file_path):\n",
    "    '''\n",
    "    Writing file path and its target pair in a CSV file format.\n",
    "    '''\n",
    "    if sys.version_info[0] < 3:\n",
    "        with open(file_path, 'wb') as csv_file:\n",
    "            writer = csv.writer(csv_file, delimiter=',')\n",
    "            for item in items:\n",
    "                writer.writerow(item)\n",
    "    else:\n",
    "        with open(file_path, 'w', newline='') as csv_file:\n",
    "            writer = csv.writer(csv_file, delimiter=',')\n",
    "            for item in items:\n",
    "                writer.writerow(item)\n",
    "    print(\"Done\")\n"
   ]
  },
  {
   "cell_type": "code",
   "execution_count": null,
   "metadata": {
    "scrolled": true
   },
   "outputs": [],
   "source": [
    "groups = load_groups(\"D:/cognitive/sports/UCF11_updated_mpg\")\n",
    "train, test = split_data(groups, '.mpg')"
   ]
  },
  {
   "cell_type": "code",
   "execution_count": 6,
   "metadata": {},
   "outputs": [
    {
     "name": "stdout",
     "output_type": "stream",
     "text": [
      "Done\n",
      "Done\n"
     ]
    }
   ],
   "source": [
    "write_to_csv(train, os.path.join('D:/cognitive/sports/UCF11_DATA', 'train_map.csv'))\n",
    "write_to_csv(test, os.path.join('D:/cognitive/sports/UCF11_DATA', 'test_map.csv'))"
   ]
  },
  {
   "cell_type": "markdown",
   "metadata": {},
   "source": [
    "#### 1) Read video from path in csv, extract frames\n",
    "#### 2) Convert frames to numpy arrays and save in file\n",
    "#### 3) Upload file to AWS to pass it to model for training"
   ]
  },
  {
   "cell_type": "code",
   "execution_count": 7,
   "metadata": {
    "collapsed": true
   },
   "outputs": [],
   "source": [
    "def select_features(video_file, sequence_length, is_training,width,height):\n",
    "        '''\n",
    "        Select a sequence of frames from video_file and return them as\n",
    "        a Tensor.\n",
    "        '''\n",
    "        try:\n",
    "            video_reader = imageio.get_reader(video_file, 'ffmpeg')\n",
    "            num_frames   = len(video_reader)\n",
    "            if sequence_length > num_frames:\n",
    "                raise ValueError('Sequence length {} is larger then the total number of frames {} in {}.'.format(sequence_length, num_frames, video_file))\n",
    "\n",
    "            # select which sequence frames to use.\n",
    "            step = 1\n",
    "            expanded_sequence = sequence_length\n",
    "            if num_frames > 2*sequence_length:\n",
    "                step = 2\n",
    "                expanded_sequence = 2*sequence_length\n",
    "\n",
    "            seq_start = int(num_frames/2) - int(expanded_sequence/2)\n",
    "            if is_training:\n",
    "                seq_start = randint(0, num_frames - expanded_sequence)\n",
    "\n",
    "            frame_range = [seq_start + step*i for i in range(sequence_length)]            \n",
    "            video_frames = []\n",
    "            for frame_index in frame_range:\n",
    "                video_frames.append(read_frame(video_reader.get_data(frame_index),width,height))\n",
    "        \n",
    "            return np.stack(video_frames, axis=1)\n",
    "        except:\n",
    "            print(\"Error reading video\")"
   ]
  },
  {
   "cell_type": "code",
   "execution_count": 8,
   "metadata": {
    "collapsed": true
   },
   "outputs": [],
   "source": [
    " def read_frame(data,width,height):\n",
    "        '''\n",
    "        Based on http://vlg.cs.dartmouth.edu/c3d/c3d_video.pdf\n",
    "        We resize the image to 128x171 first, then selecting a 112x112\n",
    "        crop.\n",
    "        '''\n",
    "        try:\n",
    "            if (width >= 171) or (height >= 128):\n",
    "                raise ValueError(\"Target width need to be less than 171 and target height need to be less than 128.\")\n",
    "        \n",
    "            image = Image.fromarray(data)\n",
    "            image.thumbnail((171, 128), Image.ANTIALIAS)\n",
    "        \n",
    "            center_w = image.size[0] / 2\n",
    "            center_h = image.size[1] / 2\n",
    "\n",
    "            image = image.crop((center_w - width  / 2,\n",
    "                                center_h - height / 2,\n",
    "                                center_w + width  / 2,\n",
    "                                center_h + height / 2))\n",
    "        \n",
    "            norm_image = np.array(image, dtype=np.float32)\n",
    "            norm_image -= 127.5\n",
    "            norm_image /= 127.5\n",
    "\n",
    "            # (channel, height, width)\n",
    "            return np.ascontiguousarray(np.transpose(norm_image, (2, 0, 1)))\n",
    "        except:\n",
    "            print(\"Error reading frame\")"
   ]
  },
  {
   "cell_type": "code",
   "execution_count": 9,
   "metadata": {
    "collapsed": true
   },
   "outputs": [],
   "source": [
    "def read_video(map_file, label_count, is_training, limit_epoch_size=sys.maxsize):\n",
    "        '''\n",
    "        Load video file paths and their corresponding labels.\n",
    "        '''\n",
    "        width           = 112\n",
    "        height          = 112\n",
    "        sequence_length = 16\n",
    "        channel_count   = 3\n",
    "        is_training     = is_training\n",
    "        video_files     = []\n",
    "        targets         = []\n",
    "        batch_start     = 0\n",
    "\n",
    "        try:\n",
    "            map_file_dir = os.path.dirname(map_file)\n",
    "\n",
    "            with open(map_file) as csv_file:\n",
    "                data = csv.reader(csv_file)\n",
    "                for row in data:\n",
    "                    video_files.append(os.path.join(map_file_dir, row[0]))\n",
    "                    target = [0.0] * label_count\n",
    "                    target[int(row[1])] = 1.0\n",
    "                    targets.append(target)\n",
    "\n",
    "            indices = np.arange(len(video_files))\n",
    "            if is_training:\n",
    "                np.random.shuffle(indices)\n",
    "            epoch_size = min(len(video_files), limit_epoch_size)\n",
    "            vectored_video_files = []\n",
    "            for video_file in video_files:\n",
    "                vectored_video_file = select_features(video_file, sequence_length, is_training,width,height)\n",
    "                print(vectored_video_file)\n",
    "                vectored_video_files.append(vectored_video_file)\n",
    "            \n",
    "            return vectored_video_files,targets\n",
    "        except:\n",
    "            print(\"error converting to vector form\")"
   ]
  },
  {
   "cell_type": "code",
   "execution_count": null,
   "metadata": {},
   "outputs": [],
   "source": [
    "num_output_classes = 11\n",
    "train_reader = read_video(os.path.join('D:/cognitive/sports/UCF11_DATA', 'train_map.csv'), num_output_classes, True)\n",
    "test_reader  = read_video(os.path.join('D:/cognitive/sports/UCF11_DATA', 'test_map.csv'), num_output_classes, True)"
   ]
  },
  {
   "cell_type": "code",
   "execution_count": 11,
   "metadata": {
    "collapsed": true
   },
   "outputs": [],
   "source": [
    "import numpy\n",
    "numpy.save('D:/cognitive/sports/train_data.npy', train_reader[0])\n"
   ]
  },
  {
   "cell_type": "code",
   "execution_count": 12,
   "metadata": {
    "collapsed": true
   },
   "outputs": [],
   "source": [
    "numpy.save('D:/cognitive/sports/train_label.npy', train_reader[1])\n"
   ]
  },
  {
   "cell_type": "code",
   "execution_count": 13,
   "metadata": {
    "collapsed": true
   },
   "outputs": [],
   "source": [
    "numpy.save('D:/cognitive/sports/test_data.npy', test_reader[0])\n"
   ]
  },
  {
   "cell_type": "code",
   "execution_count": 14,
   "metadata": {
    "collapsed": true
   },
   "outputs": [],
   "source": [
    "numpy.save('D:/cognitive/sports/test_label.npy', test_reader[1])"
   ]
  }
 ],
 "metadata": {
  "kernelspec": {
   "display_name": "Python 3",
   "language": "python",
   "name": "python3"
  },
  "language_info": {
   "codemirror_mode": {
    "name": "ipython",
    "version": 3
   },
   "file_extension": ".py",
   "mimetype": "text/x-python",
   "name": "python",
   "nbconvert_exporter": "python",
   "pygments_lexer": "ipython3",
   "version": "3.6.3"
  }
 },
 "nbformat": 4,
 "nbformat_minor": 2
}
