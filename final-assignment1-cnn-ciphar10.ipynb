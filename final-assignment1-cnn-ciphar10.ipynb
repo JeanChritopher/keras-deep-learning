{
 "cells": [
  {
   "cell_type": "code",
   "execution_count": 1,
   "metadata": {},
   "outputs": [],
   "source": [
    "# function to convert 'True' and 'False' string values from config file to boolean\n",
    "def str_to_bool(s):\n",
    "    if s == 'True':\n",
    "         return True\n",
    "    elif s == 'False':\n",
    "         return False\n",
    "    else:\n",
    "         print(\"Incorrect boolean value\")"
   ]
  },
  {
   "cell_type": "code",
   "execution_count": 2,
   "metadata": {},
   "outputs": [
    {
     "name": "stdout",
     "output_type": "stream",
     "text": [
      "[u'Layer1', u'Layer2', u'Layer3', u'Compile', u'Others']\n",
      "Layer 1 parameters :\n",
      "('Count 1 :', 32)\n",
      "('Activation 1 :', u'relu')\n",
      "('Filter 1 :', 3)\n",
      "('Count 2 :', 32)\n",
      "('Activation 2 :', u'relu')\n",
      "('Filter 2 :', 3)\n",
      "('Max Pool Size :', 2)\n",
      "('Dropout :', 0.25)\n",
      "()\n",
      "Layer 2 parameters :\n",
      "('Count 1 :', 64)\n",
      "('Activation 1 :', u'relu')\n",
      "('Filter 1 :', 3)\n",
      "('Count 2 :', 64)\n",
      "('Activation 2 :', u'relu')\n",
      "('Filter 2 :', 3)\n",
      "('Max Pool Size :', 2)\n",
      "('Dropout :', 0.25)\n",
      "()\n",
      "Layer 3 parameters :\n",
      "('Count 1 :', 512)\n",
      "('Activation 1 :', u'relu')\n",
      "('Dropout :', 0.5)\n",
      "('Activation 2 :', u'softmax')\n",
      "()\n",
      "Other parameters :\n",
      "('loss :', u'categorical_crossentropy')\n",
      "('metrics :', u'accuracy')\n",
      "('batch_size :', 500)\n",
      "('epochs :', 3)\n",
      "('data_aug :', True)\n",
      "('learning_rate :', 0.0001)\n",
      "('decay :', 1e-06)\n",
      "('workers :', 4)\n",
      "('num_classes :', 255)\n",
      "()\n",
      "All parameters loaded from config file\n"
     ]
    },
    {
     "name": "stderr",
     "output_type": "stream",
     "text": [
      "/home/ubuntu/anaconda3/envs/tensorflow_p27/lib/python2.7/site-packages/ipykernel/__main__.py:18: DeprecationWarning: You passed a bytestring as `filenames`. This will not work on Python 3. Use `cp.read_file()` or switch to using Unicode strings across the board.\n"
     ]
    }
   ],
   "source": [
    "def ConfigSectionMap(section):\n",
    "    #print(section)\n",
    "    dict1 = {}\n",
    "    options = config.options(section)\n",
    "    #print(options)\n",
    "    for option in options:\n",
    "        try:\n",
    "            dict1[option] = config.get(section, option)\n",
    "            if dict1[option] == -1:\n",
    "                DebugPrint(\"skip: %s\" % option)\n",
    "        except:\n",
    "            print(\"exception on %s!\" % option)\n",
    "            dict1[option] = None\n",
    "    return dict1\n",
    "\n",
    "import configparser\n",
    "config = configparser.ConfigParser()\n",
    "config.read('CNNConfig.INI')\n",
    "print(config.sections())\n",
    "try:\n",
    "    count1_1 = int(ConfigSectionMap(\"Layer1\")['count1'])\n",
    "    activation1_1 = ConfigSectionMap(\"Layer1\")['activation1']\n",
    "    filter1_1 = int(ConfigSectionMap(\"Layer1\")['filter1'])\n",
    "    count1_2 = int(ConfigSectionMap(\"Layer1\")['count2'])\n",
    "    activation1_2 = ConfigSectionMap(\"Layer2\")['activation2']\n",
    "    filter1_2 = int(ConfigSectionMap(\"Layer1\")['filter2'])\n",
    "    max_pool_size1 = int(ConfigSectionMap(\"Layer1\")['max_pool_size'])\n",
    "    dropout1 = float(ConfigSectionMap(\"Layer1\")['dropout'])\n",
    "    print(\"Layer 1 parameters :\")\n",
    "    print(\"Count 1 :\", count1_1)\n",
    "    print(\"Activation 1 :\", activation1_1)\n",
    "    print(\"Filter 1 :\", filter1_1)\n",
    "    print(\"Count 2 :\", count1_2)\n",
    "    print(\"Activation 2 :\", activation1_2)\n",
    "    print(\"Filter 2 :\", filter1_2)\n",
    "    print(\"Max Pool Size :\", max_pool_size1)\n",
    "    print(\"Dropout :\", dropout1)\n",
    "    print()\n",
    "    \n",
    "    count2_1 = int(ConfigSectionMap(\"Layer2\")['count1'])\n",
    "    activation2_1 = ConfigSectionMap(\"Layer2\")['activation1']\n",
    "    filter2_1 = int(ConfigSectionMap(\"Layer2\")['filter1'])\n",
    "    count2_2 = int(ConfigSectionMap(\"Layer2\")['count2'])\n",
    "    activation2_2 = ConfigSectionMap(\"Layer2\")['activation2']\n",
    "    filter2_2 = int(ConfigSectionMap(\"Layer2\")['filter2'])\n",
    "    max_pool_size2 = int(ConfigSectionMap(\"Layer2\")['max_pool_size'])\n",
    "    dropout2 = float(ConfigSectionMap(\"Layer2\")['dropout'])\n",
    "    print(\"Layer 2 parameters :\")\n",
    "    print(\"Count 1 :\" ,count2_1)\n",
    "    print(\"Activation 1 :\" ,activation2_1)\n",
    "    print(\"Filter 1 :\" ,filter2_1)\n",
    "    print(\"Count 2 :\", count2_2)\n",
    "    print(\"Activation 2 :\" ,activation2_2)\n",
    "    print(\"Filter 2 :\" ,filter2_2)\n",
    "    print(\"Max Pool Size :\", max_pool_size2)\n",
    "    print(\"Dropout :\" ,dropout2)\n",
    "    print()\n",
    "    \n",
    "    count3_1 = int(ConfigSectionMap(\"Layer3\")['count1'])\n",
    "    activation3_1 = ConfigSectionMap(\"Layer3\")['activation1']\n",
    "    dropout3 = float(ConfigSectionMap(\"Layer3\")['dropout'])\n",
    "    activation3_2 = ConfigSectionMap(\"Layer3\")['activation2']\n",
    "    print(\"Layer 3 parameters :\")\n",
    "    print(\"Count 1 :\" ,count3_1)\n",
    "    print(\"Activation 1 :\", activation3_1)\n",
    "    print(\"Dropout :\" ,dropout3)\n",
    "    print(\"Activation 2 :\", activation3_2)\n",
    "    print()\n",
    "    \n",
    "    epochs = int(ConfigSectionMap(\"Others\")['epoch'])\n",
    "    data_aug = str_to_bool(ConfigSectionMap(\"Others\")['data_augmentation'])\n",
    "    learning_rate = float(ConfigSectionMap(\"Others\")['learning_rate'])\n",
    "    decay = float(ConfigSectionMap(\"Others\")['decay'])\n",
    "    #optimizers = ConfigSectionMap(\"Compile\")['optimizer']\n",
    "    loss = ConfigSectionMap(\"Compile\")['loss']\n",
    "    metrics = ConfigSectionMap(\"Compile\")['metrics']\n",
    "    batch_size = int(ConfigSectionMap(\"Others\")['batch_size'])\n",
    "    workers = int(ConfigSectionMap(\"Others\")['workers'])\n",
    "    num_classes = int(ConfigSectionMap(\"Others\")['num_classes'])\n",
    "    print(\"Other parameters :\")\n",
    "    #print(ConfigSectionMap(\"Others\"))\n",
    "    #print(\"optimizer :\" ,optimizers)\n",
    "    print(\"loss :\", loss)\n",
    "    print(\"metrics :\", metrics)\n",
    "    print(\"batch_size :\", batch_size)\n",
    "    print(\"epochs :\" ,epochs)\n",
    "    print(\"data_aug :\", data_aug)\n",
    "    print(\"learning_rate :\" ,learning_rate)\n",
    "    print(\"decay :\", decay)\n",
    "    print(\"workers :\",workers)\n",
    "    print(\"num_classes :\",num_classes)\n",
    "    print()\n",
    "    \n",
    "    print(\"All parameters loaded from config file\")\n",
    "except:\n",
    "    print(\"Incorrect parameters\")"
   ]
  },
  {
   "cell_type": "code",
   "execution_count": 3,
   "metadata": {},
   "outputs": [
    {
     "name": "stderr",
     "output_type": "stream",
     "text": [
      "/home/ubuntu/anaconda3/envs/tensorflow_p27/lib/python2.7/site-packages/matplotlib/__init__.py:962: UserWarning: Duplicate key in file \"/home/ubuntu/.config/matplotlib/matplotlibrc\", line #2\n",
      "  (fname, cnt))\n",
      "/home/ubuntu/anaconda3/envs/tensorflow_p27/lib/python2.7/site-packages/matplotlib/__init__.py:962: UserWarning: Duplicate key in file \"/home/ubuntu/.config/matplotlib/matplotlibrc\", line #3\n",
      "  (fname, cnt))\n",
      "/home/ubuntu/anaconda3/envs/tensorflow_p27/lib/python2.7/site-packages/h5py/__init__.py:36: FutureWarning: Conversion of the second argument of issubdtype from `float` to `np.floating` is deprecated. In future, it will be treated as `np.float64 == np.dtype(float).type`.\n",
      "  from ._conv import register_converters as _register_converters\n",
      "Using TensorFlow backend.\n"
     ]
    }
   ],
   "source": [
    "from __future__ import print_function\n",
    "import pandas as pd\n",
    "import keras\n",
    "from keras.datasets import cifar10\n",
    "from keras.preprocessing.image import ImageDataGenerator\n",
    "from keras.models import Sequential\n",
    "from keras.layers import Dense, Dropout, Activation, Flatten\n",
    "from keras.layers import Conv2D, MaxPooling2D\n",
    "import csv\n",
    "import os"
   ]
  },
  {
   "cell_type": "code",
   "execution_count": 4,
   "metadata": {},
   "outputs": [
    {
     "name": "stdout",
     "output_type": "stream",
     "text": [
      "Training data length : 50000\n",
      "Test data length : 10000\n",
      "Data shape :  (50000, 32, 32, 3)\n",
      "Max value of single cell : 255\n",
      "No of labels : 10\n"
     ]
    }
   ],
   "source": [
    "# The data, shuffled and split between train and test sets:\n",
    "\n",
    "(train_data, train_labels), (test_data, test_labels) = cifar10.load_data()\n",
    "print(\"Training data length :\", len(train_data))\n",
    "print(\"Test data length :\",len(test_data))\n",
    "print(\"Data shape : \",train_data.shape)\n",
    "print(\"Max value of single cell :\",train_data[0].max())\n",
    "print(\"No of labels :\",train_labels.max() + 1)\n",
    "\n",
    "# Convert class vectors to binary class matrices.\n",
    "train_labels = keras.utils.to_categorical(train_labels, num_classes)\n",
    "test_labels = keras.utils.to_categorical(test_labels, num_classes)\n",
    "\n",
    "#print(\"Sample data :\",train_data[0])"
   ]
  },
  {
   "cell_type": "code",
   "execution_count": 5,
   "metadata": {},
   "outputs": [],
   "source": [
    "model = Sequential()\n",
    "model.add(Conv2D(count1_1, (filter1_1, filter1_1), padding='same',\n",
    "                 input_shape=train_data.shape[1:]))\n",
    "model.add(Activation(activation1_1))\n",
    "model.add(Conv2D(count1_2, (filter1_2, filter1_2)))\n",
    "model.add(Activation(activation1_2))\n",
    "model.add(MaxPooling2D(pool_size=(max_pool_size1, max_pool_size1)))\n",
    "model.add(Dropout(dropout1))\n",
    "\n",
    "model.add(Conv2D(count2_1, (filter2_1, filter2_1), padding='same'))\n",
    "model.add(Activation(activation2_1))\n",
    "model.add(Conv2D(count2_2, (filter2_2, filter2_2)))\n",
    "model.add(Activation(activation2_2))\n",
    "model.add(MaxPooling2D(pool_size=(max_pool_size2, max_pool_size2)))\n",
    "model.add(Dropout(dropout2))\n",
    "\n",
    "model.add(Flatten())\n",
    "model.add(Dense(count3_1))\n",
    "model.add(Activation(activation3_1))\n",
    "model.add(Dropout(dropout3))\n",
    "model.add(Dense(train_data[0].max()))\n",
    "model.add(Activation(activation3_2))\n",
    "\n",
    "# initiate RMSprop optimizer\n",
    "opt = keras.optimizers.Adam(lr=learning_rate, decay=decay)\n",
    "\n",
    "# Let's train the model using RMSprop\n",
    "model.compile(loss=loss,\n",
    "              optimizer=opt,\n",
    "              metrics=[metrics])"
   ]
  },
  {
   "cell_type": "code",
   "execution_count": 6,
   "metadata": {},
   "outputs": [
    {
     "name": "stdout",
     "output_type": "stream",
     "text": [
      "Data normalized between range 0.0 and 1.0\n",
      "Using real-time data augmentation.\n",
      "Epoch 1/3\n",
      "100/100 [==============================] - 25s 255ms/step - loss: 3.2031 - acc: 0.1058 - val_loss: 2.3701 - val_acc: 0.1952\n",
      "Epoch 2/3\n",
      "100/100 [==============================] - 22s 218ms/step - loss: 2.2874 - acc: 0.1903 - val_loss: 2.0713 - val_acc: 0.3145\n",
      "Epoch 3/3\n",
      "100/100 [==============================] - 23s 230ms/step - loss: 2.0131 - acc: 0.2754 - val_loss: 1.7694 - val_acc: 0.3879\n"
     ]
    }
   ],
   "source": [
    "\n",
    "#reshape 32x32x3 tensor to 3072x1,convert to data type float32 and normalizing values between 0 and 1\n",
    "#train_data = train_data.reshape(50000, 3072)\n",
    "#test_data = test_data.reshape(10000, 3072)\n",
    "train_data = train_data.astype('float32')\n",
    "test_data = test_data.astype('float32')\n",
    "#print(\"Data reshaped :\",train_data.shape)\n",
    "train_data/=255\n",
    "test_data/=255\n",
    "print(\"Data normalized between range\",train_data.min(),\"and\",train_data.max())\n",
    "#print(\"Sample data :\",train_data[0])\n",
    "\n",
    "\n",
    "\n",
    "\n",
    "if not data_aug:\n",
    "    print('Not using data augmentation.')\n",
    "    model.fit(train_data, train_labels,\n",
    "              batch_size=batch_size,\n",
    "              epochs=epochs,\n",
    "              validation_data=(test_data, test_labels),\n",
    "              shuffle=True)\n",
    "else:\n",
    "    print('Using real-time data augmentation.')\n",
    "    # This will do preprocessing and realtime data augmentation:\n",
    "    datagen = ImageDataGenerator(\n",
    "        featurewise_center=False,  # set input mean to 0 over the dataset\n",
    "        samplewise_center=False,  # set each sample mean to 0\n",
    "        featurewise_std_normalization=False,  # divide inputs by std of the dataset\n",
    "        samplewise_std_normalization=False,  # divide each input by its std\n",
    "        zca_whitening=False,  # apply ZCA whitening\n",
    "        rotation_range=0,  # randomly rotate images in the range (degrees, 0 to 180)\n",
    "        width_shift_range=0.1,  # randomly shift images horizontally (fraction of total width)\n",
    "        height_shift_range=0.1,  # randomly shift images vertically (fraction of total height)\n",
    "        horizontal_flip=True,  # randomly flip images\n",
    "        vertical_flip=False)  # randomly flip images\n",
    "    datagen.fit(train_data)\n",
    "    history = model.fit_generator(datagen.flow(train_data, train_labels,\n",
    "                                     batch_size=batch_size),\n",
    "                        epochs=epochs,\n",
    "                        validation_data=(test_data, test_labels),\n",
    "                        workers=0)\n",
    "\n"
   ]
  },
  {
   "cell_type": "code",
   "execution_count": 8,
   "metadata": {},
   "outputs": [
    {
     "ename": "NameError",
     "evalue": "name 'save_dir' is not defined",
     "output_type": "error",
     "traceback": [
      "\u001b[0;31m---------------------------------------------------------------------------\u001b[0m",
      "\u001b[0;31mNameError\u001b[0m                                 Traceback (most recent call last)",
      "\u001b[0;32m<ipython-input-8-58a840540739>\u001b[0m in \u001b[0;36m<module>\u001b[0;34m()\u001b[0m\n\u001b[1;32m      1\u001b[0m \u001b[0;31m# Save model and weights\u001b[0m\u001b[0;34m\u001b[0m\u001b[0;34m\u001b[0m\u001b[0m\n\u001b[0;32m----> 2\u001b[0;31m \u001b[0;32mif\u001b[0m \u001b[0;32mnot\u001b[0m \u001b[0mos\u001b[0m\u001b[0;34m.\u001b[0m\u001b[0mpath\u001b[0m\u001b[0;34m.\u001b[0m\u001b[0misdir\u001b[0m\u001b[0;34m(\u001b[0m\u001b[0msave_dir\u001b[0m\u001b[0;34m)\u001b[0m\u001b[0;34m:\u001b[0m\u001b[0;34m\u001b[0m\u001b[0m\n\u001b[0m\u001b[1;32m      3\u001b[0m     \u001b[0mos\u001b[0m\u001b[0;34m.\u001b[0m\u001b[0mmakedirs\u001b[0m\u001b[0;34m(\u001b[0m\u001b[0msave_dir\u001b[0m\u001b[0;34m)\u001b[0m\u001b[0;34m\u001b[0m\u001b[0m\n\u001b[1;32m      4\u001b[0m \u001b[0mmodel_path\u001b[0m \u001b[0;34m=\u001b[0m \u001b[0mos\u001b[0m\u001b[0;34m.\u001b[0m\u001b[0mpath\u001b[0m\u001b[0;34m.\u001b[0m\u001b[0mjoin\u001b[0m\u001b[0;34m(\u001b[0m\u001b[0msave_dir\u001b[0m\u001b[0;34m,\u001b[0m \u001b[0mmodel_name\u001b[0m\u001b[0;34m)\u001b[0m\u001b[0;34m\u001b[0m\u001b[0m\n\u001b[1;32m      5\u001b[0m \u001b[0mmodel\u001b[0m\u001b[0;34m.\u001b[0m\u001b[0msave\u001b[0m\u001b[0;34m(\u001b[0m\u001b[0mmodel_path\u001b[0m\u001b[0;34m)\u001b[0m\u001b[0;34m\u001b[0m\u001b[0m\n",
      "\u001b[0;31mNameError\u001b[0m: name 'save_dir' is not defined"
     ]
    }
   ],
   "source": [
    "# Save model and weights\n",
    "if not os.path.isdir(save_dir):\n",
    "    os.makedirs(save_dir)\n",
    "model_path = os.path.join(save_dir, model_name)\n",
    "model.save(model_path)\n",
    "print('Saved trained model at %s ' % model_path)\n",
    "\n",
    "# Score trained model.\n",
    "scores = model.evaluate(x_test, y_test, verbose=1)\n",
    "print('Test loss:', scores[0])\n",
    "print('Test accuracy:', scores[1])"
   ]
  },
  {
   "cell_type": "code",
   "execution_count": null,
   "metadata": {},
   "outputs": [],
   "source": []
  },
  {
   "cell_type": "code",
   "execution_count": 11,
   "metadata": {},
   "outputs": [
    {
     "name": "stdout",
     "output_type": "stream",
     "text": [
      "10000/10000 [==============================] - 1s 149us/step\n",
      "Test loss: 1.7694335372924805\n",
      "Test accuracy: 0.3879\n"
     ]
    }
   ],
   "source": [
    "\n",
    "# Score trained model.\n",
    "scores = model.evaluate(test_data, test_labels, verbose=1)\n",
    "print('Test loss:', scores[0])\n",
    "print('Test accuracy:', scores[1])"
   ]
  },
  {
   "cell_type": "code",
   "execution_count": 13,
   "metadata": {},
   "outputs": [
    {
     "data": {
      "image/png": "[encoded data removed]",
      "text/plain": [
       "<matplotlib.figure.Figure at 0x7fcd82e77190>"
      ]
     },
     "metadata": {},
     "output_type": "display_data"
    }
   ],
   "source": [
    "import matplotlib.pyplot as plt\n",
    "\n",
    "loss = history.history['loss']\n",
    "val_loss = history.history['val_loss']\n",
    "\n",
    "epochs = range(1, len(loss) + 1)\n",
    "\n",
    "plt.plot(epochs, loss, 'bo', label='Training loss')\n",
    "plt.plot(epochs, val_loss, 'b', label='Validation loss')\n",
    "plt.title('Training and validation loss')\n",
    "plt.xlabel('Epochs')\n",
    "plt.ylabel('Loss')\n",
    "plt.legend()\n",
    "\n",
    "plt.show()"
   ]
  },
  {
   "cell_type": "code",
   "execution_count": 14,
   "metadata": {},
   "outputs": [
    {
     "data": {
      "image/png": "[encoded data removed]",
      "text/plain": [
       "<matplotlib.figure.Figure at 0x7fcd80347b10>"
      ]
     },
     "metadata": {},
     "output_type": "display_data"
    }
   ],
   "source": [
    "plt.clf()   # clear figure\n",
    "\n",
    "acc = history.history['acc']\n",
    "val_acc = history.history['val_acc']\n",
    "\n",
    "plt.plot(epochs, acc, 'bo', label='Training acc')\n",
    "plt.plot(epochs, val_acc, 'b', label='Validation acc')\n",
    "plt.title('Training and validation accuracy')\n",
    "plt.xlabel('Epochs')\n",
    "plt.ylabel('Loss')\n",
    "plt.legend()\n",
    "\n",
    "plt.show()"
   ]
  },
  {
   "cell_type": "code",
   "execution_count": null,
   "metadata": {},
   "outputs": [],
   "source": []
  }
 ],
 "metadata": {
  "kernelspec": {
   "display_name": "Python [conda env:tensorflow_p27]",
   "language": "python",
   "name": "conda-env-tensorflow_p27-py"
  },
  "language_info": {
   "codemirror_mode": {
    "name": "ipython",
    "version": 2
   },
   "file_extension": ".py",
   "mimetype": "text/x-python",
   "name": "python",
   "nbconvert_exporter": "python",
   "pygments_lexer": "ipython2",
   "version": "2.7.14"
  }
 },
 "nbformat": 4,
 "nbformat_minor": 2
}
