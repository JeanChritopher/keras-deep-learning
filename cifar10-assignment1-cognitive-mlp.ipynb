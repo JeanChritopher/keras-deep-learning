{
 "cells": [
  {
   "cell_type": "markdown",
   "metadata": {},
   "source": [
    "#### import config file and load defaults"
   ]
  },
  {
   "cell_type": "code",
   "execution_count": 306,
   "metadata": {},
   "outputs": [
    {
     "name": "stdout",
     "output_type": "stream",
     "text": [
      "['Layer1', 'Layer2', 'Layer3', 'Compile', 'Others']\n",
      "All parameters loaded from config file\n",
      "Count and activation for Layer 1 : 64 relu\n",
      "Count and activation for Layer 2 : 24 relu\n",
      "Count and activation for Layer 3 : 10 softmax\n",
      "Loss : categorical_crossentropy\n",
      "Metrics : accuracy\n",
      "Optimizer : rmsprop\n",
      "Batch Size : 500\n",
      "Epochs : 100\n"
     ]
    }
   ],
   "source": [
    "def ConfigSectionMap(section):\n",
    "    #print(section)\n",
    "    dict1 = {}\n",
    "    options = config.options(section)\n",
    "    #print(options)\n",
    "    for option in options:\n",
    "        try:\n",
    "            dict1[option] = config.get(section, option)\n",
    "            if dict1[option] == -1:\n",
    "                DebugPrint(\"skip: %s\" % option)\n",
    "        except:\n",
    "            print(\"exception on %s!\" % option)\n",
    "            dict1[option] = None\n",
    "    return dict1\n",
    "\n",
    "import configparser\n",
    "config = configparser.ConfigParser()\n",
    "config.read('MLPConfig.ini')\n",
    "print(config.sections())\n",
    "try:\n",
    "    count1 = int(ConfigSectionMap(\"Layer1\")['count1'])\n",
    "    activation1 = ConfigSectionMap(\"Layer1\")['activation1']\n",
    "    count2 = int(ConfigSectionMap(\"Layer2\")['count2'])\n",
    "    activation2 = ConfigSectionMap(\"Layer2\")['activation2']\n",
    "    count3 = int(ConfigSectionMap(\"Layer3\")['count3'])\n",
    "    activation3 = ConfigSectionMap(\"Layer3\")['activation3']\n",
    "    optimizer = ConfigSectionMap(\"Compile\")['optimizer']\n",
    "    loss = ConfigSectionMap(\"Compile\")['loss']\n",
    "    metrics = ConfigSectionMap(\"Compile\")['metrics']\n",
    "    batch_size = int(ConfigSectionMap(\"Others\")['batch_size'])\n",
    "    epochs = int(ConfigSectionMap(\"Others\")['epoch'])\n",
    "    \n",
    "    print(\"All parameters loaded from config file\")\n",
    "    print(\"Count and activation for Layer 1 :\",count1, activation1)\n",
    "    print(\"Count and activation for Layer 2 :\",count2, activation2)\n",
    "    print(\"Count and activation for Layer 3 :\",count3, activation3)\n",
    "    print(\"Loss :\",loss)\n",
    "    print(\"Metrics :\",metrics)\n",
    "    print(\"Optimizer :\",optimizer)\n",
    "    print(\"Batch Size :\",batch_size)\n",
    "    print(\"Epochs :\",epochs)\n",
    "except:\n",
    "    print(\"Incorrect parameters\")"
   ]
  },
  {
   "cell_type": "markdown",
   "metadata": {},
   "source": [
    "#### Load cifar10 dataset and view metrics"
   ]
  },
  {
   "cell_type": "code",
   "execution_count": 296,
   "metadata": {},
   "outputs": [
    {
     "name": "stdout",
     "output_type": "stream",
     "text": [
      "Training data length : 50000\n",
      "Test data length : 10000\n",
      "Data shape :  (50000, 32, 32, 3)\n",
      "Max value of single cell : 255\n",
      "No of labels : 10\n"
     ]
    }
   ],
   "source": [
    "from keras.datasets import cifar10\n",
    "(train_data, train_labels), (test_data, test_labels) = cifar10.load_data()\n",
    "print(\"Training data length :\", len(train_data))\n",
    "print(\"Test data length :\",len(test_data))\n",
    "print(\"Data shape : \",train_data.shape)\n",
    "print(\"Max value of single cell :\",train_data[0].max())\n",
    "print(\"No of labels :\",train_labels.max() + 1)\n",
    "\n",
    "#print(\"Sample data :\",train_data[0])"
   ]
  },
  {
   "cell_type": "markdown",
   "metadata": {},
   "source": [
    "#### Data preprocessing"
   ]
  },
  {
   "cell_type": "code",
   "execution_count": 297,
   "metadata": {},
   "outputs": [
    {
     "name": "stdout",
     "output_type": "stream",
     "text": [
      "Data reshaped : (50000, 3072)\n",
      "Data normalized between range 0.0 and 1.0\n",
      "Sample data : [ 0.23137255  0.24313726  0.24705882 ...,  0.48235294  0.36078432\n",
      "  0.28235295]\n",
      "Labels reshaped : (50000, 10)\n",
      "Sample labels : [ 0.  0.  0.  0.  0.  0.  1.  0.  0.  0.]\n"
     ]
    }
   ],
   "source": [
    "import keras.utils\n",
    "\n",
    "#reshape 32x32x3 tensor to 3072x1,convert to data type float32 and normalizing values between 0 and 1\n",
    "train_data = train_data.reshape(50000, 3072)\n",
    "test_data = test_data.reshape(10000, 3072)\n",
    "train_data = train_data.astype('float32')\n",
    "test_data = test_data.astype('float32')\n",
    "print(\"Data reshaped :\",train_data.shape)\n",
    "train_data/=255\n",
    "test_data/=255\n",
    "print(\"Data normalized between range\",train_data.min(),\"and\",train_data.max())\n",
    "print(\"Sample data :\",train_data[0])\n",
    "\n",
    "#vectorizing the labels\n",
    "train_labels = keras.utils.to_categorical(train_labels,train_labels.max() + 1)\n",
    "test_labels = keras.utils.to_categorical(test_labels,test_labels.max() + 1)\n",
    "print(\"Labels reshaped :\",train_labels.shape)\n",
    "print(\"Sample labels :\",train_labels[0])\n",
    "\n",
    "\n",
    "\n",
    "\n",
    "\n",
    "\n"
   ]
  },
  {
   "cell_type": "markdown",
   "metadata": {},
   "source": [
    "#### splitting data and labels for creating validation set"
   ]
  },
  {
   "cell_type": "code",
   "execution_count": 298,
   "metadata": {
    "collapsed": true
   },
   "outputs": [],
   "source": [
    "val_data = train_data[:10000]\n",
    "partial_train = train_data[10000:]\n",
    "val_labels = train_labels[:10000]\n",
    "partial_labels = train_labels[10000:]\n"
   ]
  },
  {
   "cell_type": "markdown",
   "metadata": {},
   "source": [
    "#### build,compile and fit model"
   ]
  },
  {
   "cell_type": "code",
   "execution_count": 299,
   "metadata": {
    "scrolled": true
   },
   "outputs": [
    {
     "name": "stdout",
     "output_type": "stream",
     "text": [
      "Train on 40000 samples, validate on 10000 samples\n",
      "Epoch 1/100\n",
      "40000/40000 [==============================] - 3s 75us/step - loss: 2.2878 - acc: 0.1439 - val_loss: 2.1912 - val_acc: 0.1794\n",
      "Epoch 2/100\n",
      "40000/40000 [==============================] - 2s 60us/step - loss: 2.1121 - acc: 0.2153 - val_loss: 2.0466 - val_acc: 0.2482\n",
      "Epoch 3/100\n",
      "40000/40000 [==============================] - 2s 59us/step - loss: 2.0080 - acc: 0.2662 - val_loss: 1.9720 - val_acc: 0.2843\n",
      "Epoch 4/100\n",
      "40000/40000 [==============================] - 2s 59us/step - loss: 1.9431 - acc: 0.2937 - val_loss: 1.8712 - val_acc: 0.3272\n",
      "Epoch 5/100\n",
      "40000/40000 [==============================] - 2s 59us/step - loss: 1.8995 - acc: 0.3158 - val_loss: 1.8918 - val_acc: 0.3121\n",
      "Epoch 6/100\n",
      "40000/40000 [==============================] - 2s 59us/step - loss: 1.8631 - acc: 0.3310 - val_loss: 1.8243 - val_acc: 0.3388\n",
      "Epoch 7/100\n",
      "40000/40000 [==============================] - 2s 60us/step - loss: 1.8341 - acc: 0.3428 - val_loss: 1.8100 - val_acc: 0.3393\n",
      "Epoch 8/100\n",
      "40000/40000 [==============================] - 3s 63us/step - loss: 1.8090 - acc: 0.3494 - val_loss: 1.7554 - val_acc: 0.3737\n",
      "Epoch 9/100\n",
      "40000/40000 [==============================] - 2s 61us/step - loss: 1.7956 - acc: 0.3547 - val_loss: 1.7577 - val_acc: 0.3587\n",
      "Epoch 10/100\n",
      "40000/40000 [==============================] - 2s 60us/step - loss: 1.7748 - acc: 0.3643 - val_loss: 1.7809 - val_acc: 0.3649\n",
      "Epoch 11/100\n",
      "40000/40000 [==============================] - 2s 60us/step - loss: 1.7576 - acc: 0.3733 - val_loss: 1.7270 - val_acc: 0.3811\n",
      "Epoch 12/100\n",
      "40000/40000 [==============================] - 2s 60us/step - loss: 1.7448 - acc: 0.3806 - val_loss: 1.7090 - val_acc: 0.3817\n",
      "Epoch 13/100\n",
      "40000/40000 [==============================] - 2s 60us/step - loss: 1.7323 - acc: 0.3836 - val_loss: 1.7069 - val_acc: 0.3854\n",
      "Epoch 14/100\n",
      "40000/40000 [==============================] - 2s 60us/step - loss: 1.7215 - acc: 0.3882 - val_loss: 1.6912 - val_acc: 0.3974\n",
      "Epoch 15/100\n",
      "40000/40000 [==============================] - 2s 60us/step - loss: 1.7067 - acc: 0.3958 - val_loss: 1.6796 - val_acc: 0.3972\n",
      "Epoch 16/100\n",
      "40000/40000 [==============================] - 2s 60us/step - loss: 1.6954 - acc: 0.3998 - val_loss: 1.7118 - val_acc: 0.3857\n",
      "Epoch 17/100\n",
      "40000/40000 [==============================] - 2s 60us/step - loss: 1.6888 - acc: 0.4026 - val_loss: 1.6470 - val_acc: 0.4140\n",
      "Epoch 18/100\n",
      "40000/40000 [==============================] - 2s 60us/step - loss: 1.6743 - acc: 0.4099 - val_loss: 1.6424 - val_acc: 0.4120\n",
      "Epoch 19/100\n",
      "40000/40000 [==============================] - 2s 60us/step - loss: 1.6662 - acc: 0.4119 - val_loss: 1.6315 - val_acc: 0.4196\n",
      "Epoch 20/100\n",
      "40000/40000 [==============================] - 2s 60us/step - loss: 1.6584 - acc: 0.4160 - val_loss: 1.6199 - val_acc: 0.4224\n",
      "Epoch 21/100\n",
      "40000/40000 [==============================] - 2s 61us/step - loss: 1.6517 - acc: 0.4178 - val_loss: 1.6748 - val_acc: 0.4008\n",
      "Epoch 22/100\n",
      "40000/40000 [==============================] - 2s 61us/step - loss: 1.6468 - acc: 0.4188 - val_loss: 1.6942 - val_acc: 0.4001\n",
      "Epoch 23/100\n",
      "40000/40000 [==============================] - 3s 63us/step - loss: 1.6373 - acc: 0.4221 - val_loss: 1.6215 - val_acc: 0.4200\n",
      "Epoch 24/100\n",
      "40000/40000 [==============================] - 2s 61us/step - loss: 1.6306 - acc: 0.4256 - val_loss: 1.7511 - val_acc: 0.3923\n",
      "Epoch 25/100\n",
      "40000/40000 [==============================] - 2s 61us/step - loss: 1.6273 - acc: 0.4261 - val_loss: 1.6243 - val_acc: 0.4242\n",
      "Epoch 26/100\n",
      "40000/40000 [==============================] - 3s 63us/step - loss: 1.6190 - acc: 0.4293 - val_loss: 1.6418 - val_acc: 0.4098\n",
      "Epoch 27/100\n",
      "40000/40000 [==============================] - 3s 63us/step - loss: 1.6149 - acc: 0.4328 - val_loss: 1.6758 - val_acc: 0.3948\n",
      "Epoch 28/100\n",
      "40000/40000 [==============================] - 2s 61us/step - loss: 1.6089 - acc: 0.4317 - val_loss: 1.6568 - val_acc: 0.4033\n",
      "Epoch 29/100\n",
      "40000/40000 [==============================] - 2s 62us/step - loss: 1.6022 - acc: 0.4330 - val_loss: 1.5968 - val_acc: 0.4354\n",
      "Epoch 30/100\n",
      "40000/40000 [==============================] - 3s 65us/step - loss: 1.5992 - acc: 0.4353 - val_loss: 1.6241 - val_acc: 0.4227\n",
      "Epoch 31/100\n",
      "40000/40000 [==============================] - 3s 64us/step - loss: 1.5938 - acc: 0.4373 - val_loss: 1.6064 - val_acc: 0.4263\n",
      "Epoch 32/100\n",
      "40000/40000 [==============================] - 3s 65us/step - loss: 1.5876 - acc: 0.4380 - val_loss: 1.6355 - val_acc: 0.4191\n",
      "Epoch 33/100\n",
      "40000/40000 [==============================] - 3s 64us/step - loss: 1.5812 - acc: 0.4446 - val_loss: 1.5994 - val_acc: 0.4291\n",
      "Epoch 34/100\n",
      "40000/40000 [==============================] - 3s 63us/step - loss: 1.5816 - acc: 0.4394 - val_loss: 1.5717 - val_acc: 0.4373\n",
      "Epoch 35/100\n",
      "40000/40000 [==============================] - 2s 62us/step - loss: 1.5780 - acc: 0.4426 - val_loss: 1.6038 - val_acc: 0.4285\n",
      "Epoch 36/100\n",
      "40000/40000 [==============================] - 2s 62us/step - loss: 1.5709 - acc: 0.4465 - val_loss: 1.6749 - val_acc: 0.4118\n",
      "Epoch 37/100\n",
      "40000/40000 [==============================] - 2s 62us/step - loss: 1.5704 - acc: 0.4456 - val_loss: 1.5764 - val_acc: 0.4440\n",
      "Epoch 38/100\n",
      "40000/40000 [==============================] - 2s 62us/step - loss: 1.5634 - acc: 0.4506 - val_loss: 1.5875 - val_acc: 0.4294\n",
      "Epoch 39/100\n",
      "40000/40000 [==============================] - 2s 62us/step - loss: 1.5631 - acc: 0.4475 - val_loss: 1.5838 - val_acc: 0.4399\n",
      "Epoch 40/100\n",
      "40000/40000 [==============================] - 2s 62us/step - loss: 1.5566 - acc: 0.4498 - val_loss: 1.6144 - val_acc: 0.4336\n",
      "Epoch 41/100\n",
      "40000/40000 [==============================] - 2s 62us/step - loss: 1.5557 - acc: 0.4532 - val_loss: 1.5586 - val_acc: 0.4460\n",
      "Epoch 42/100\n",
      "40000/40000 [==============================] - 2s 62us/step - loss: 1.5538 - acc: 0.4525 - val_loss: 1.5587 - val_acc: 0.4412\n",
      "Epoch 43/100\n",
      "40000/40000 [==============================] - 2s 61us/step - loss: 1.5400 - acc: 0.4584 - val_loss: 1.6330 - val_acc: 0.4157\n",
      "Epoch 44/100\n",
      "40000/40000 [==============================] - 2s 62us/step - loss: 1.5458 - acc: 0.4516 - val_loss: 1.6094 - val_acc: 0.4315\n",
      "Epoch 45/100\n",
      "40000/40000 [==============================] - 2s 62us/step - loss: 1.5406 - acc: 0.4561 - val_loss: 1.5725 - val_acc: 0.4366\n",
      "Epoch 46/100\n",
      "40000/40000 [==============================] - 2s 62us/step - loss: 1.5394 - acc: 0.4564 - val_loss: 1.6005 - val_acc: 0.4328\n",
      "Epoch 47/100\n",
      "40000/40000 [==============================] - 3s 63us/step - loss: 1.5376 - acc: 0.4582 - val_loss: 1.5613 - val_acc: 0.4450\n",
      "Epoch 48/100\n",
      "40000/40000 [==============================] - 3s 63us/step - loss: 1.5295 - acc: 0.4624 - val_loss: 1.5747 - val_acc: 0.4469\n",
      "Epoch 49/100\n",
      "40000/40000 [==============================] - 2s 62us/step - loss: 1.5309 - acc: 0.4600 - val_loss: 1.5598 - val_acc: 0.4457\n",
      "Epoch 50/100\n",
      "40000/40000 [==============================] - 3s 63us/step - loss: 1.5281 - acc: 0.4619 - val_loss: 1.5388 - val_acc: 0.4534\n",
      "Epoch 51/100\n",
      "40000/40000 [==============================] - 2s 62us/step - loss: 1.5239 - acc: 0.4631 - val_loss: 1.5549 - val_acc: 0.4482\n",
      "Epoch 52/100\n",
      "40000/40000 [==============================] - 3s 64us/step - loss: 1.5261 - acc: 0.4624 - val_loss: 1.5754 - val_acc: 0.4362\n",
      "Epoch 53/100\n",
      "40000/40000 [==============================] - 3s 64us/step - loss: 1.5243 - acc: 0.4623 - val_loss: 1.5684 - val_acc: 0.4473\n",
      "Epoch 54/100\n",
      "40000/40000 [==============================] - 3s 63us/step - loss: 1.5176 - acc: 0.4642 - val_loss: 1.6884 - val_acc: 0.4081\n",
      "Epoch 55/100\n",
      "40000/40000 [==============================] - 3s 63us/step - loss: 1.5193 - acc: 0.4635 - val_loss: 1.5789 - val_acc: 0.4419\n",
      "Epoch 56/100\n",
      "40000/40000 [==============================] - 3s 63us/step - loss: 1.5114 - acc: 0.4660 - val_loss: 1.6036 - val_acc: 0.4379\n",
      "Epoch 57/100\n",
      "40000/40000 [==============================] - 2s 62us/step - loss: 1.5147 - acc: 0.4662 - val_loss: 1.5869 - val_acc: 0.4444\n",
      "Epoch 58/100\n",
      "40000/40000 [==============================] - 3s 63us/step - loss: 1.5139 - acc: 0.4643 - val_loss: 1.5479 - val_acc: 0.4422\n",
      "Epoch 59/100\n",
      "40000/40000 [==============================] - 2s 60us/step - loss: 1.5030 - acc: 0.4695 - val_loss: 1.5575 - val_acc: 0.4467\n",
      "Epoch 60/100\n",
      "40000/40000 [==============================] - 2s 59us/step - loss: 1.5044 - acc: 0.4677 - val_loss: 1.5542 - val_acc: 0.4489\n",
      "Epoch 61/100\n",
      "40000/40000 [==============================] - 2s 59us/step - loss: 1.5050 - acc: 0.4679 - val_loss: 1.5822 - val_acc: 0.4377\n",
      "Epoch 62/100\n",
      "40000/40000 [==============================] - 2s 60us/step - loss: 1.5036 - acc: 0.4688 - val_loss: 1.5673 - val_acc: 0.4367\n",
      "Epoch 63/100\n",
      "40000/40000 [==============================] - 2s 59us/step - loss: 1.4970 - acc: 0.4721 - val_loss: 1.5360 - val_acc: 0.4527\n",
      "Epoch 64/100\n",
      "40000/40000 [==============================] - 2s 59us/step - loss: 1.4904 - acc: 0.4735 - val_loss: 1.5770 - val_acc: 0.4351\n",
      "Epoch 65/100\n",
      "40000/40000 [==============================] - 2s 60us/step - loss: 1.4973 - acc: 0.4712 - val_loss: 1.5615 - val_acc: 0.4465\n",
      "Epoch 66/100\n",
      "40000/40000 [==============================] - 2s 60us/step - loss: 1.4918 - acc: 0.4745 - val_loss: 1.5432 - val_acc: 0.4556\n",
      "Epoch 67/100\n",
      "40000/40000 [==============================] - 2s 60us/step - loss: 1.4930 - acc: 0.4728 - val_loss: 1.5651 - val_acc: 0.4453\n",
      "Epoch 68/100\n",
      "40000/40000 [==============================] - 2s 59us/step - loss: 1.4882 - acc: 0.4753 - val_loss: 1.5920 - val_acc: 0.4326\n",
      "Epoch 69/100\n",
      "40000/40000 [==============================] - 2s 60us/step - loss: 1.4876 - acc: 0.4727 - val_loss: 1.5979 - val_acc: 0.4343\n",
      "Epoch 70/100\n",
      "40000/40000 [==============================] - 2s 60us/step - loss: 1.4845 - acc: 0.4740 - val_loss: 1.5611 - val_acc: 0.4508\n",
      "Epoch 71/100\n",
      "40000/40000 [==============================] - 2s 60us/step - loss: 1.4803 - acc: 0.4775 - val_loss: 1.5303 - val_acc: 0.4581\n",
      "Epoch 72/100\n",
      "40000/40000 [==============================] - 2s 60us/step - loss: 1.4843 - acc: 0.4773 - val_loss: 1.5892 - val_acc: 0.4305\n",
      "Epoch 73/100\n",
      "40000/40000 [==============================] - 2s 60us/step - loss: 1.4802 - acc: 0.4763 - val_loss: 1.5189 - val_acc: 0.4579\n",
      "Epoch 74/100\n",
      "40000/40000 [==============================] - 2s 60us/step - loss: 1.4810 - acc: 0.4779 - val_loss: 1.5825 - val_acc: 0.4434\n",
      "Epoch 75/100\n",
      "40000/40000 [==============================] - 2s 61us/step - loss: 1.4767 - acc: 0.4781 - val_loss: 1.5835 - val_acc: 0.4346\n",
      "Epoch 76/100\n",
      "40000/40000 [==============================] - 2s 60us/step - loss: 1.4776 - acc: 0.4779 - val_loss: 1.5432 - val_acc: 0.4510\n",
      "Epoch 77/100\n",
      "40000/40000 [==============================] - 3s 64us/step - loss: 1.4744 - acc: 0.4776 - val_loss: 1.5295 - val_acc: 0.4462\n",
      "Epoch 78/100\n",
      "40000/40000 [==============================] - 3s 66us/step - loss: 1.4734 - acc: 0.4784 - val_loss: 1.5764 - val_acc: 0.4458\n",
      "Epoch 79/100\n",
      "40000/40000 [==============================] - 3s 69us/step - loss: 1.4693 - acc: 0.4798 - val_loss: 1.5189 - val_acc: 0.4587\n",
      "Epoch 80/100\n",
      "40000/40000 [==============================] - 3s 65us/step - loss: 1.4668 - acc: 0.4819 - val_loss: 1.5114 - val_acc: 0.4620\n",
      "Epoch 81/100\n",
      "40000/40000 [==============================] - 3s 63us/step - loss: 1.4723 - acc: 0.4792 - val_loss: 1.5507 - val_acc: 0.4511\n",
      "Epoch 82/100\n",
      "40000/40000 [==============================] - 3s 65us/step - loss: 1.4630 - acc: 0.4819 - val_loss: 1.5875 - val_acc: 0.4376\n",
      "Epoch 83/100\n",
      "40000/40000 [==============================] - 3s 69us/step - loss: 1.4667 - acc: 0.4841 - val_loss: 1.5175 - val_acc: 0.4637\n",
      "Epoch 84/100\n",
      "40000/40000 [==============================] - 3s 63us/step - loss: 1.4624 - acc: 0.4819 - val_loss: 1.5216 - val_acc: 0.4535\n",
      "Epoch 85/100\n",
      "40000/40000 [==============================] - 3s 63us/step - loss: 1.4619 - acc: 0.4800 - val_loss: 1.5132 - val_acc: 0.4643\n",
      "Epoch 86/100\n",
      "40000/40000 [==============================] - 3s 63us/step - loss: 1.4590 - acc: 0.4811 - val_loss: 1.5707 - val_acc: 0.4493\n",
      "Epoch 87/100\n",
      "40000/40000 [==============================] - 2s 61us/step - loss: 1.4603 - acc: 0.4853 - val_loss: 1.5431 - val_acc: 0.4522\n",
      "Epoch 88/100\n",
      "40000/40000 [==============================] - 3s 63us/step - loss: 1.4557 - acc: 0.4847 - val_loss: 1.5353 - val_acc: 0.4542\n",
      "Epoch 89/100\n",
      "40000/40000 [==============================] - 2s 60us/step - loss: 1.4555 - acc: 0.4841 - val_loss: 1.5005 - val_acc: 0.4670\n",
      "Epoch 90/100\n",
      "40000/40000 [==============================] - 2s 59us/step - loss: 1.4525 - acc: 0.4867 - val_loss: 1.5172 - val_acc: 0.4596\n",
      "Epoch 91/100\n",
      "40000/40000 [==============================] - 2s 60us/step - loss: 1.4537 - acc: 0.4861 - val_loss: 1.5243 - val_acc: 0.4568\n",
      "Epoch 92/100\n",
      "40000/40000 [==============================] - 3s 63us/step - loss: 1.4503 - acc: 0.4882 - val_loss: 1.5500 - val_acc: 0.4514\n",
      "Epoch 93/100\n",
      "40000/40000 [==============================] - 3s 68us/step - loss: 1.4509 - acc: 0.4864 - val_loss: 1.4984 - val_acc: 0.4639\n",
      "Epoch 94/100\n",
      "40000/40000 [==============================] - 3s 63us/step - loss: 1.4446 - acc: 0.4878 - val_loss: 1.5501 - val_acc: 0.4510\n",
      "Epoch 95/100\n",
      "40000/40000 [==============================] - 3s 64us/step - loss: 1.4438 - acc: 0.4880 - val_loss: 1.5290 - val_acc: 0.4644\n",
      "Epoch 96/100\n",
      "40000/40000 [==============================] - 3s 64us/step - loss: 1.4459 - acc: 0.4883 - val_loss: 1.5914 - val_acc: 0.4423\n",
      "Epoch 97/100\n",
      "40000/40000 [==============================] - 3s 64us/step - loss: 1.4470 - acc: 0.4885 - val_loss: 1.5898 - val_acc: 0.4464\n",
      "Epoch 98/100\n",
      "40000/40000 [==============================] - 3s 66us/step - loss: 1.4452 - acc: 0.4877 - val_loss: 1.5236 - val_acc: 0.4594\n",
      "Epoch 99/100\n",
      "40000/40000 [==============================] - 3s 66us/step - loss: 1.4421 - acc: 0.4889 - val_loss: 1.5397 - val_acc: 0.4556\n",
      "Epoch 100/100\n",
      "40000/40000 [==============================] - 2s 61us/step - loss: 1.4378 - acc: 0.4866 - val_loss: 1.5190 - val_acc: 0.4525\n"
     ]
    }
   ],
   "source": [
    "from keras import models\n",
    "from keras import layers\n",
    "model = models.Sequential()\n",
    "model.add(layers.Dense(count1, activation=activation1, input_shape=(3072,)))\n",
    "model.add(layers.Dense(count2, activation=activation2))\n",
    "model.add(layers.Dense(count3, activation=activation3))\n",
    "model.compile(optimizer=optimizer,\n",
    "              loss=loss,\n",
    "              metrics=[metrics])\n",
    "history = model.fit(partial_train, partial_labels,\n",
    "                    epochs=epochs,\n",
    "                    batch_size=batch_size,\n",
    "                    validation_data=(val_data,val_labels))"
   ]
  },
  {
   "cell_type": "markdown",
   "metadata": {},
   "source": [
    "#### plot the loss"
   ]
  },
  {
   "cell_type": "code",
   "execution_count": 300,
   "metadata": {
    "scrolled": true
   },
   "outputs": [
    {
     "data": {
      "image/png": "[encoded data removed]",
      "text/plain": [
       "<matplotlib.figure.Figure at 0x2489c53c860>"
      ]
     },
     "metadata": {},
     "output_type": "display_data"
    }
   ],
   "source": [
    "import matplotlib.pyplot as plt\n",
    "\n",
    "loss = history.history['loss']\n",
    "val_loss = history.history['val_loss']\n",
    "\n",
    "epochs = range(1, len(loss) + 1)\n",
    "\n",
    "plt.plot(epochs, loss, 'bo', label='Training loss')\n",
    "plt.plot(epochs, val_loss, 'b', label='Validation loss')\n",
    "plt.title('Training and validation loss')\n",
    "plt.xlabel('Epochs')\n",
    "plt.ylabel('Loss')\n",
    "plt.legend()\n",
    "\n",
    "plt.show()"
   ]
  },
  {
   "cell_type": "markdown",
   "metadata": {},
   "source": [
    "#### plot the accuracy"
   ]
  },
  {
   "cell_type": "code",
   "execution_count": 301,
   "metadata": {
    "scrolled": true
   },
   "outputs": [
    {
     "data": {
      "image/png": "[encoded data removed]",
      "text/plain": [
       "<matplotlib.figure.Figure at 0x2489c7e0550>"
      ]
     },
     "metadata": {},
     "output_type": "display_data"
    }
   ],
   "source": [
    "plt.clf()   # clear figure\n",
    "\n",
    "acc = history.history['acc']\n",
    "val_acc = history.history['val_acc']\n",
    "\n",
    "plt.plot(epochs, acc, 'bo', label='Training acc')\n",
    "plt.plot(epochs, val_acc, 'b', label='Validation acc')\n",
    "plt.title('Training and validation accuracy')\n",
    "plt.xlabel('Epochs')\n",
    "plt.ylabel('Loss')\n",
    "plt.legend()\n",
    "\n",
    "plt.show()"
   ]
  },
  {
   "cell_type": "markdown",
   "metadata": {},
   "source": [
    "\n"
   ]
  },
  {
   "cell_type": "code",
   "execution_count": 302,
   "metadata": {},
   "outputs": [
    {
     "name": "stdout",
     "output_type": "stream",
     "text": [
      "10000/10000 [==============================] - 1s 65us/step\n",
      "Loss and accuracy for test data : [1.5338520656585692, 0.4506]\n",
      "Predicted label for test sample : 3\n",
      "Actual label for test sample : [3]\n"
     ]
    }
   ],
   "source": [
    "import numpy as np\n",
    "results = model.evaluate(test_data,test_labels)\n",
    "print(\"Loss and accuracy for test data :\",results)\n",
    "\n",
    "predictions = model.predict(test_data)\n",
    "print(\"Predicted label for test sample :\",np.argmax(predictions[0]))\n",
    "expected_label = [i for i, j in enumerate(test_labels[0]) if j == max(test_labels[0])]\n",
    "print(\"Actual label for test sample :\", expected_label)"
   ]
  },
  {
   "cell_type": "code",
   "execution_count": 303,
   "metadata": {},
   "outputs": [
    {
     "name": "stdout",
     "output_type": "stream",
     "text": [
      "[name: \"/device:CPU:0\"\n",
      "device_type: \"CPU\"\n",
      "memory_limit: 268435456\n",
      "locality {\n",
      "}\n",
      "incarnation: 8842530236698686820\n",
      "]\n"
     ]
    }
   ],
   "source": [
    "from tensorflow.python.client import device_lib\n",
    "print(device_lib.list_local_devices())"
   ]
  },
  {
   "cell_type": "code",
   "execution_count": null,
   "metadata": {
    "collapsed": true
   },
   "outputs": [],
   "source": []
  }
 ],
 "metadata": {
  "kernelspec": {
   "display_name": "Python 3",
   "language": "python",
   "name": "python3"
  },
  "language_info": {
   "codemirror_mode": {
    "name": "ipython",
    "version": 3
   },
   "file_extension": ".py",
   "mimetype": "text/x-python",
   "name": "python",
   "nbconvert_exporter": "python",
   "pygments_lexer": "ipython3",
   "version": "3.6.3"
  }
 },
 "nbformat": 4,
 "nbformat_minor": 2
}
