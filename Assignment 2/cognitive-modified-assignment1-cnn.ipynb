{
 "cells": [
  {
   "cell_type": "markdown",
   "metadata": {},
   "source": [
    "#### variables"
   ]
  },
  {
   "cell_type": "code",
   "execution_count": 88,
   "metadata": {},
   "outputs": [],
   "source": [
    "num_classes = 10\n",
    "baseMapNum = 32\n",
    "weight_decay = 1e-4\n",
    "batch_size = 50\n",
    "epochs=75"
   ]
  },
  {
   "cell_type": "markdown",
   "metadata": {},
   "source": [
    "#### import packages and load cifar10 data"
   ]
  },
  {
   "cell_type": "code",
   "execution_count": 89,
   "metadata": {},
   "outputs": [
    {
     "name": "stdout",
     "output_type": "stream",
     "text": [
      "Training Data Shape : Training Data : (50000, 32, 32, 3)\n",
      "Training Label Shape : (50000, 1)\n",
      "Test Data Shape : (10000, 32, 32, 3)\n",
      "Test Label Shape : (10000, 1)\n",
      "Train Data Length : 50000\n",
      "Test Data Length : 10000\n"
     ]
    }
   ],
   "source": [
    "import keras\n",
    "from keras.models import Sequential\n",
    "from keras.utils import np_utils\n",
    "from keras.preprocessing.image import ImageDataGenerator\n",
    "from keras.layers import Dense, Activation, Flatten, Dropout, BatchNormalization\n",
    "from keras.layers import Conv2D, MaxPooling2D\n",
    "from keras.datasets import cifar10\n",
    "from keras import regularizers, optimizers\n",
    "import numpy as np\n",
    "\n",
    "(train_images, train_labels), (test_images, test_labels) = cifar10.load_data()\n",
    "print(\"Training Data Shape :\",\"Training Data :\",train_images.shape)\n",
    "print(\"Training Label Shape :\",train_labels.shape)\n",
    "print(\"Test Data Shape :\",test_images.shape)\n",
    "print(\"Test Label Shape :\",test_labels.shape)\n",
    "print(\"Train Data Length :\",len(train_images))\n",
    "print(\"Test Data Length :\",len(test_images))"
   ]
  },
  {
   "cell_type": "markdown",
   "metadata": {},
   "source": [
    "#### Data Preprocessing"
   ]
  },
  {
   "cell_type": "code",
   "execution_count": 90,
   "metadata": {},
   "outputs": [],
   "source": [
    "train_images = train_images.astype('float32')\n",
    "test_images = test_images.astype('float32')\n",
    "\n",
    "#calculate z-score\n",
    "mean = np.mean(train_images,axis=(0,1,2,3))\n",
    "std = np.std(train_images,axis=(0,1,2,3))\n",
    "train_images = (train_images-mean)/(std+1e-6)\n",
    "test_images = (test_images-mean)/(std+1e-6)\n",
    "\n",
    "#one hot encoding of labels\n",
    "train_labels = np_utils.to_categorical(train_labels,num_classes)\n",
    "test_labels = np_utils.to_categorical(test_labels,num_classes)\n",
    "\n",
    "#split training data into partial_train and validation_images\n",
    "#val_data = train_images[:10000]\n",
    "#partial_train = train_images[10000:]\n",
    "#val_labels = train_labels[:10000]\n",
    "#partial_labels = train_labels[10000:]"
   ]
  },
  {
   "cell_type": "markdown",
   "metadata": {},
   "source": [
    "#### generate model"
   ]
  },
  {
   "cell_type": "code",
   "execution_count": 91,
   "metadata": {},
   "outputs": [
    {
     "name": "stdout",
     "output_type": "stream",
     "text": [
      "_________________________________________________________________\n",
      "Layer (type)                 Output Shape              Param #   \n",
      "=================================================================\n",
      "conv2d_61 (Conv2D)           (None, 32, 32, 32)        896       \n",
      "_________________________________________________________________\n",
      "activation_61 (Activation)   (None, 32, 32, 32)        0         \n",
      "_________________________________________________________________\n",
      "batch_normalization_61 (Batc (None, 32, 32, 32)        128       \n",
      "_________________________________________________________________\n",
      "conv2d_62 (Conv2D)           (None, 32, 32, 32)        9248      \n",
      "_________________________________________________________________\n",
      "activation_62 (Activation)   (None, 32, 32, 32)        0         \n",
      "_________________________________________________________________\n",
      "batch_normalization_62 (Batc (None, 32, 32, 32)        128       \n",
      "_________________________________________________________________\n",
      "max_pooling2d_31 (MaxPooling (None, 16, 16, 32)        0         \n",
      "_________________________________________________________________\n",
      "conv2d_63 (Conv2D)           (None, 16, 16, 64)        18496     \n",
      "_________________________________________________________________\n",
      "activation_63 (Activation)   (None, 16, 16, 64)        0         \n",
      "_________________________________________________________________\n",
      "batch_normalization_63 (Batc (None, 16, 16, 64)        256       \n",
      "_________________________________________________________________\n",
      "conv2d_64 (Conv2D)           (None, 16, 16, 64)        36928     \n",
      "_________________________________________________________________\n",
      "activation_64 (Activation)   (None, 16, 16, 64)        0         \n",
      "_________________________________________________________________\n",
      "batch_normalization_64 (Batc (None, 16, 16, 64)        256       \n",
      "_________________________________________________________________\n",
      "max_pooling2d_32 (MaxPooling (None, 8, 8, 64)          0         \n",
      "_________________________________________________________________\n",
      "conv2d_65 (Conv2D)           (None, 8, 8, 128)         73856     \n",
      "_________________________________________________________________\n",
      "activation_65 (Activation)   (None, 8, 8, 128)         0         \n",
      "_________________________________________________________________\n",
      "batch_normalization_65 (Batc (None, 8, 8, 128)         512       \n",
      "_________________________________________________________________\n",
      "conv2d_66 (Conv2D)           (None, 8, 8, 128)         147584    \n",
      "_________________________________________________________________\n",
      "activation_66 (Activation)   (None, 8, 8, 128)         0         \n",
      "_________________________________________________________________\n",
      "batch_normalization_66 (Batc (None, 8, 8, 128)         512       \n",
      "_________________________________________________________________\n",
      "max_pooling2d_33 (MaxPooling (None, 4, 4, 128)         0         \n",
      "_________________________________________________________________\n",
      "flatten_11 (Flatten)         (None, 2048)              0         \n",
      "_________________________________________________________________\n",
      "dense_11 (Dense)             (None, 10)                20490     \n",
      "=================================================================\n",
      "Total params: 309,290\n",
      "Trainable params: 308,394\n",
      "Non-trainable params: 896\n",
      "_________________________________________________________________\n"
     ]
    }
   ],
   "source": [
    "model = Sequential()\n",
    "model.add(Conv2D(baseMapNum, (3,3), padding='same', kernel_regularizer=regularizers.l2(weight_decay), input_shape=train_images.shape[1:]))\n",
    "model.add(Activation('relu'))\n",
    "model.add(BatchNormalization())\n",
    "model.add(Conv2D(baseMapNum, (3,3), padding='same', kernel_regularizer=regularizers.l2(weight_decay)))\n",
    "model.add(Activation('relu'))\n",
    "model.add(BatchNormalization())\n",
    "model.add(MaxPooling2D(pool_size=(2,2)))\n",
    "#model.add(Dropout(0.2))\n",
    "\n",
    "model.add(Conv2D(2*baseMapNum, (3,3), padding='same', kernel_regularizer=regularizers.l2(weight_decay)))\n",
    "model.add(Activation('relu'))\n",
    "model.add(BatchNormalization())\n",
    "model.add(Conv2D(2*baseMapNum, (3,3), padding='same', kernel_regularizer=regularizers.l2(weight_decay)))\n",
    "model.add(Activation('relu'))\n",
    "model.add(BatchNormalization())\n",
    "model.add(MaxPooling2D(pool_size=(2,2)))\n",
    "#model.add(Dropout(0.3))\n",
    "\n",
    "model.add(Conv2D(4*baseMapNum, (3,3), padding='same', kernel_regularizer=regularizers.l2(weight_decay)))\n",
    "model.add(Activation('relu'))\n",
    "model.add(BatchNormalization())\n",
    "model.add(Conv2D(4*baseMapNum, (3,3), padding='same', kernel_regularizer=regularizers.l2(weight_decay)))\n",
    "model.add(Activation('relu'))\n",
    "model.add(BatchNormalization())\n",
    "model.add(MaxPooling2D(pool_size=(2,2)))\n",
    "#model.add(Dropout(0.4))\n",
    "\n",
    "model.add(Flatten())\n",
    "model.add(Dense(num_classes, activation='softmax'))\n",
    "\n",
    "model.summary()"
   ]
  },
  {
   "cell_type": "markdown",
   "metadata": {},
   "source": [
    "#### Data Augmentation"
   ]
  },
  {
   "cell_type": "code",
   "execution_count": 92,
   "metadata": {},
   "outputs": [],
   "source": [
    "datagen = ImageDataGenerator(\n",
    "    featurewise_center=False,\n",
    "    samplewise_center=False,\n",
    "    featurewise_std_normalization=False,\n",
    "    samplewise_std_normalization=False,\n",
    "    zca_whitening=False,\n",
    "    rotation_range=15,\n",
    "    width_shift_range=0.1,\n",
    "    height_shift_range=0.1,\n",
    "    horizontal_flip=True,\n",
    "    vertical_flip=False\n",
    "    )\n",
    "datagen.fit(train_images)\n"
   ]
  },
  {
   "cell_type": "markdown",
   "metadata": {},
   "source": [
    "#### fit model and evaluate"
   ]
  },
  {
   "cell_type": "code",
   "execution_count": 93,
   "metadata": {},
   "outputs": [
    {
     "name": "stdout",
     "output_type": "stream",
     "text": [
      "Epoch 1/75\n",
      "1000/1000 [==============================] - 41s 41ms/step - loss: 1.5897 - acc: 0.4933 - val_loss: 1.4443 - val_acc: 0.5661\n",
      "Epoch 2/75\n",
      "1000/1000 [==============================] - 38s 38ms/step - loss: 1.0907 - acc: 0.6470 - val_loss: 1.0470 - val_acc: 0.6642\n",
      "Epoch 3/75\n",
      "1000/1000 [==============================] - 36s 36ms/step - loss: 0.9294 - acc: 0.7078 - val_loss: 0.9398 - val_acc: 0.7205\n",
      "Epoch 4/75\n",
      "1000/1000 [==============================] - 36s 36ms/step - loss: 0.8501 - acc: 0.7372 - val_loss: 0.8300 - val_acc: 0.7455\n",
      "Epoch 5/75\n",
      "1000/1000 [==============================] - 36s 36ms/step - loss: 0.7887 - acc: 0.7592 - val_loss: 0.9138 - val_acc: 0.7296\n",
      "Epoch 6/75\n",
      "1000/1000 [==============================] - 37s 37ms/step - loss: 0.7551 - acc: 0.7767 - val_loss: 0.7982 - val_acc: 0.7661\n",
      "Epoch 7/75\n",
      "1000/1000 [==============================] - 36s 36ms/step - loss: 0.7197 - acc: 0.7909 - val_loss: 0.7683 - val_acc: 0.7752\n",
      "Epoch 8/75\n",
      "1000/1000 [==============================] - 36s 36ms/step - loss: 0.6932 - acc: 0.8024 - val_loss: 0.8378 - val_acc: 0.7634\n",
      "Epoch 9/75\n",
      "1000/1000 [==============================] - 36s 36ms/step - loss: 0.6756 - acc: 0.8075 - val_loss: 0.7624 - val_acc: 0.7872\n",
      "Epoch 10/75\n",
      "1000/1000 [==============================] - 37s 37ms/step - loss: 0.6540 - acc: 0.8176 - val_loss: 0.7374 - val_acc: 0.7997\n",
      "Epoch 11/75\n",
      "1000/1000 [==============================] - 36s 36ms/step - loss: 0.6466 - acc: 0.8238 - val_loss: 0.7500 - val_acc: 0.7927\n",
      "Epoch 12/75\n",
      "1000/1000 [==============================] - 37s 37ms/step - loss: 0.6299 - acc: 0.8293 - val_loss: 0.7127 - val_acc: 0.8024\n",
      "Epoch 13/75\n",
      "1000/1000 [==============================] - 36s 36ms/step - loss: 0.6249 - acc: 0.8324 - val_loss: 0.6880 - val_acc: 0.8135\n",
      "Epoch 14/75\n",
      "1000/1000 [==============================] - 37s 37ms/step - loss: 0.6138 - acc: 0.8374 - val_loss: 0.7005 - val_acc: 0.8104\n",
      "Epoch 15/75\n",
      "1000/1000 [==============================] - 36s 36ms/step - loss: 0.6050 - acc: 0.8419 - val_loss: 0.7507 - val_acc: 0.7969\n",
      "Epoch 16/75\n",
      "1000/1000 [==============================] - 39s 39ms/step - loss: 0.6015 - acc: 0.8413 - val_loss: 0.6907 - val_acc: 0.8208\n",
      "Epoch 17/75\n",
      "1000/1000 [==============================] - 38s 38ms/step - loss: 0.5940 - acc: 0.8466 - val_loss: 0.6939 - val_acc: 0.8099\n",
      "Epoch 18/75\n",
      "1000/1000 [==============================] - 40s 40ms/step - loss: 0.5862 - acc: 0.8479 - val_loss: 0.7117 - val_acc: 0.8118\n",
      "Epoch 19/75\n",
      "1000/1000 [==============================] - 39s 39ms/step - loss: 0.5832 - acc: 0.8523 - val_loss: 0.6976 - val_acc: 0.8193\n",
      "Epoch 20/75\n",
      "1000/1000 [==============================] - 39s 39ms/step - loss: 0.5744 - acc: 0.8543 - val_loss: 0.7509 - val_acc: 0.7943\n",
      "Epoch 21/75\n",
      "1000/1000 [==============================] - 38s 38ms/step - loss: 0.5771 - acc: 0.8540 - val_loss: 0.6944 - val_acc: 0.8175\n",
      "Epoch 22/75\n",
      "1000/1000 [==============================] - 39s 39ms/step - loss: 0.5702 - acc: 0.8566 - val_loss: 0.6912 - val_acc: 0.8226\n",
      "Epoch 23/75\n",
      "1000/1000 [==============================] - 39s 39ms/step - loss: 0.5665 - acc: 0.8601 - val_loss: 0.6662 - val_acc: 0.8290\n",
      "Epoch 24/75\n",
      "1000/1000 [==============================] - 39s 39ms/step - loss: 0.5616 - acc: 0.8619 - val_loss: 0.7116 - val_acc: 0.8186\n",
      "Epoch 25/75\n",
      "1000/1000 [==============================] - 39s 39ms/step - loss: 0.5678 - acc: 0.8611 - val_loss: 0.6999 - val_acc: 0.8232\n",
      "Epoch 26/75\n",
      "1000/1000 [==============================] - 39s 39ms/step - loss: 0.5554 - acc: 0.8634 - val_loss: 0.6689 - val_acc: 0.8316\n",
      "Epoch 27/75\n",
      "1000/1000 [==============================] - 36s 36ms/step - loss: 0.5526 - acc: 0.8656 - val_loss: 0.7124 - val_acc: 0.8195\n",
      "Epoch 28/75\n",
      "1000/1000 [==============================] - 37s 37ms/step - loss: 0.5538 - acc: 0.8671 - val_loss: 0.6946 - val_acc: 0.8270\n",
      "Epoch 29/75\n",
      "1000/1000 [==============================] - 36s 36ms/step - loss: 0.5463 - acc: 0.8693 - val_loss: 0.7464 - val_acc: 0.8036\n",
      "Epoch 30/75\n",
      "1000/1000 [==============================] - 39s 39ms/step - loss: 0.5501 - acc: 0.8686 - val_loss: 0.6926 - val_acc: 0.8238\n",
      "Epoch 31/75\n",
      "1000/1000 [==============================] - 36s 36ms/step - loss: 0.5466 - acc: 0.8693 - val_loss: 0.6725 - val_acc: 0.8333\n",
      "Epoch 32/75\n",
      "1000/1000 [==============================] - 40s 40ms/step - loss: 0.5427 - acc: 0.8698 - val_loss: 0.6745 - val_acc: 0.8306\n",
      "Epoch 33/75\n",
      "1000/1000 [==============================] - 40s 40ms/step - loss: 0.5423 - acc: 0.8703 - val_loss: 0.6805 - val_acc: 0.8342\n",
      "Epoch 34/75\n",
      "1000/1000 [==============================] - 41s 41ms/step - loss: 0.5454 - acc: 0.8698 - val_loss: 0.6678 - val_acc: 0.8335\n",
      "Epoch 35/75\n",
      "1000/1000 [==============================] - 40s 40ms/step - loss: 0.5401 - acc: 0.8708 - val_loss: 0.6583 - val_acc: 0.8413\n",
      "Epoch 36/75\n",
      "1000/1000 [==============================] - 41s 41ms/step - loss: 0.5358 - acc: 0.8732 - val_loss: 0.6818 - val_acc: 0.8306\n",
      "Epoch 37/75\n",
      "1000/1000 [==============================] - 41s 41ms/step - loss: 0.5332 - acc: 0.8754 - val_loss: 0.6368 - val_acc: 0.8424\n",
      "Epoch 38/75\n",
      "1000/1000 [==============================] - 41s 41ms/step - loss: 0.5351 - acc: 0.8759 - val_loss: 0.6316 - val_acc: 0.8456\n",
      "Epoch 39/75\n",
      "1000/1000 [==============================] - 40s 40ms/step - loss: 0.5281 - acc: 0.8763 - val_loss: 0.6912 - val_acc: 0.8299\n",
      "Epoch 40/75\n",
      "1000/1000 [==============================] - 40s 40ms/step - loss: 0.5294 - acc: 0.8764 - val_loss: 0.6664 - val_acc: 0.8368\n",
      "Epoch 41/75\n",
      "1000/1000 [==============================] - 41s 41ms/step - loss: 0.5300 - acc: 0.8775 - val_loss: 0.6786 - val_acc: 0.8342\n",
      "Epoch 42/75\n",
      "1000/1000 [==============================] - 40s 40ms/step - loss: 0.5314 - acc: 0.8765 - val_loss: 0.6622 - val_acc: 0.8355\n",
      "Epoch 43/75\n",
      "1000/1000 [==============================] - 41s 41ms/step - loss: 0.5216 - acc: 0.8794 - val_loss: 0.6735 - val_acc: 0.8344\n",
      "Epoch 44/75\n",
      "1000/1000 [==============================] - 40s 40ms/step - loss: 0.5275 - acc: 0.8791 - val_loss: 0.6929 - val_acc: 0.8329\n",
      "Epoch 45/75\n",
      "1000/1000 [==============================] - 40s 40ms/step - loss: 0.5243 - acc: 0.8799 - val_loss: 0.6735 - val_acc: 0.8407\n",
      "Epoch 46/75\n",
      "1000/1000 [==============================] - 41s 41ms/step - loss: 0.5256 - acc: 0.8798 - val_loss: 0.6650 - val_acc: 0.8372\n",
      "Epoch 47/75\n",
      "1000/1000 [==============================] - 41s 41ms/step - loss: 0.5252 - acc: 0.8795 - val_loss: 0.6515 - val_acc: 0.8451\n",
      "Epoch 48/75\n",
      "1000/1000 [==============================] - 41s 41ms/step - loss: 0.5165 - acc: 0.8819 - val_loss: 0.6532 - val_acc: 0.8434\n",
      "Epoch 49/75\n",
      "1000/1000 [==============================] - 41s 41ms/step - loss: 0.5218 - acc: 0.8799 - val_loss: 0.6851 - val_acc: 0.8338\n",
      "Epoch 50/75\n",
      "1000/1000 [==============================] - 41s 41ms/step - loss: 0.5178 - acc: 0.8836 - val_loss: 0.6457 - val_acc: 0.8476\n",
      "Epoch 51/75\n",
      "1000/1000 [==============================] - 41s 41ms/step - loss: 0.5137 - acc: 0.8820 - val_loss: 0.6669 - val_acc: 0.8424\n",
      "Epoch 52/75\n",
      "1000/1000 [==============================] - 41s 41ms/step - loss: 0.5138 - acc: 0.8834 - val_loss: 0.6430 - val_acc: 0.8455\n",
      "Epoch 53/75\n",
      "1000/1000 [==============================] - 40s 40ms/step - loss: 0.5162 - acc: 0.8824 - val_loss: 0.6553 - val_acc: 0.8409\n",
      "Epoch 54/75\n",
      "1000/1000 [==============================] - 40s 40ms/step - loss: 0.5087 - acc: 0.8848 - val_loss: 0.6534 - val_acc: 0.8484\n",
      "Epoch 55/75\n",
      "1000/1000 [==============================] - 40s 40ms/step - loss: 0.5129 - acc: 0.8844 - val_loss: 0.6592 - val_acc: 0.8421\n",
      "Epoch 56/75\n",
      "1000/1000 [==============================] - 40s 40ms/step - loss: 0.5105 - acc: 0.8855 - val_loss: 0.6632 - val_acc: 0.8397\n",
      "Epoch 57/75\n",
      "1000/1000 [==============================] - 41s 41ms/step - loss: 0.5115 - acc: 0.8846 - val_loss: 0.6472 - val_acc: 0.8460\n",
      "Epoch 58/75\n",
      "1000/1000 [==============================] - 41s 41ms/step - loss: 0.5094 - acc: 0.8847 - val_loss: 0.6749 - val_acc: 0.8443\n",
      "Epoch 59/75\n",
      "1000/1000 [==============================] - 40s 40ms/step - loss: 0.5098 - acc: 0.8852 - val_loss: 0.6602 - val_acc: 0.8435\n",
      "Epoch 60/75\n",
      "1000/1000 [==============================] - 40s 40ms/step - loss: 0.5056 - acc: 0.8864 - val_loss: 0.6383 - val_acc: 0.8464\n"
     ]
    },
    {
     "name": "stdout",
     "output_type": "stream",
     "text": [
      "Epoch 61/75\n",
      "1000/1000 [==============================] - 40s 40ms/step - loss: 0.5029 - acc: 0.8852 - val_loss: 0.6573 - val_acc: 0.8459\n",
      "Epoch 62/75\n",
      "1000/1000 [==============================] - 41s 41ms/step - loss: 0.5056 - acc: 0.8862 - val_loss: 0.6800 - val_acc: 0.8357\n",
      "Epoch 63/75\n",
      "1000/1000 [==============================] - 41s 41ms/step - loss: 0.5029 - acc: 0.8886 - val_loss: 0.6445 - val_acc: 0.8496\n",
      "Epoch 64/75\n",
      "1000/1000 [==============================] - 41s 41ms/step - loss: 0.5038 - acc: 0.8861 - val_loss: 0.6631 - val_acc: 0.8478\n",
      "Epoch 65/75\n",
      "1000/1000 [==============================] - 41s 41ms/step - loss: 0.5049 - acc: 0.8874 - val_loss: 0.7029 - val_acc: 0.8371\n",
      "Epoch 66/75\n",
      "1000/1000 [==============================] - 41s 41ms/step - loss: 0.5042 - acc: 0.8878 - val_loss: 0.6609 - val_acc: 0.8375\n",
      "Epoch 67/75\n",
      "1000/1000 [==============================] - 41s 41ms/step - loss: 0.5030 - acc: 0.8882 - val_loss: 0.6302 - val_acc: 0.8513\n",
      "Epoch 68/75\n",
      "1000/1000 [==============================] - 41s 41ms/step - loss: 0.4991 - acc: 0.8885 - val_loss: 0.6578 - val_acc: 0.8447\n",
      "Epoch 69/75\n",
      "1000/1000 [==============================] - 41s 41ms/step - loss: 0.4998 - acc: 0.8883 - val_loss: 0.6580 - val_acc: 0.8455\n",
      "Epoch 70/75\n",
      "1000/1000 [==============================] - 41s 41ms/step - loss: 0.4991 - acc: 0.8889 - val_loss: 0.6486 - val_acc: 0.8456\n",
      "Epoch 71/75\n",
      "1000/1000 [==============================] - 41s 41ms/step - loss: 0.5005 - acc: 0.8886 - val_loss: 0.6869 - val_acc: 0.8361\n",
      "Epoch 72/75\n",
      "1000/1000 [==============================] - 40s 40ms/step - loss: 0.4994 - acc: 0.8900 - val_loss: 0.6340 - val_acc: 0.8493\n",
      "Epoch 73/75\n",
      "1000/1000 [==============================] - 40s 40ms/step - loss: 0.4961 - acc: 0.8896 - val_loss: 0.6396 - val_acc: 0.8503\n",
      "Epoch 74/75\n",
      "1000/1000 [==============================] - 40s 40ms/step - loss: 0.4999 - acc: 0.8888 - val_loss: 0.6613 - val_acc: 0.8458\n",
      "Epoch 75/75\n",
      "1000/1000 [==============================] - 40s 40ms/step - loss: 0.4951 - acc: 0.8914 - val_loss: 0.6202 - val_acc: 0.8524\n",
      "10000/10000 [==============================] - 5s 485us/step\n",
      "\n",
      "Test result: 87.880 loss: 0.546\n"
     ]
    }
   ],
   "source": [
    "opt_rms = keras.optimizers.rmsprop(lr=0.001,decay=1e-6)\n",
    "model.compile(loss='categorical_crossentropy',\n",
    "        optimizer=opt_rms,\n",
    "        metrics=['accuracy'])\n",
    "history = model.fit_generator(datagen.flow(train_images, train_labels, batch_size=50),steps_per_epoch=1000,\n",
    "                              epochs=epochs,\n",
    "                              validation_data=datagen.flow(test_images, test_labels, batch_size=10),\n",
    "                              validation_steps=1000)\n",
    "model.save_weights('cifar10_normal_rms_ep75.h5')"
   ]
  },
  {
   "cell_type": "markdown",
   "metadata": {},
   "source": [
    "#### plot loss graph"
   ]
  },
  {
   "cell_type": "code",
   "execution_count": 94,
   "metadata": {},
   "outputs": [
    {
     "data": {
      "image/png": "[encoded data removed]",
      "text/plain": [
       "<matplotlib.figure.Figure at 0x7f0ee7a95748>"
      ]
     },
     "metadata": {},
     "output_type": "display_data"
    }
   ],
   "source": [
    "import matplotlib.pyplot as plt\n",
    "\n",
    "loss = history.history['loss']\n",
    "val_loss = history.history['val_loss']\n",
    "\n",
    "epochs = range(1, len(loss) + 1)\n",
    "\n",
    "plt.plot(epochs, loss, 'bo', label='Training loss')\n",
    "plt.plot(epochs, val_loss, 'b', label='Validation loss')\n",
    "plt.title('Training and validation loss')\n",
    "plt.xlabel('Epochs')\n",
    "plt.ylabel('Loss')\n",
    "plt.legend()\n",
    "\n",
    "plt.show()"
   ]
  },
  {
   "cell_type": "markdown",
   "metadata": {},
   "source": [
    "#### plot accuracy graph"
   ]
  },
  {
   "cell_type": "code",
   "execution_count": 95,
   "metadata": {},
   "outputs": [
    {
     "data": {
      "image/png": "[encoded data removed]",
      "text/plain": [
       "<matplotlib.figure.Figure at 0x7f0ee7b0ac50>"
      ]
     },
     "metadata": {},
     "output_type": "display_data"
    }
   ],
   "source": [
    "plt.clf()   # clear figure\n",
    "\n",
    "acc = history.history['acc']\n",
    "val_acc = history.history['val_acc']\n",
    "\n",
    "plt.plot(epochs, acc, 'bo', label='Training acc')\n",
    "plt.plot(epochs, val_acc, 'b', label='Validation acc')\n",
    "plt.title('Training and validation accuracy')\n",
    "plt.xlabel('Epochs')\n",
    "plt.ylabel('Loss')\n",
    "plt.legend()\n",
    "\n",
    "plt.show()"
   ]
  },
  {
   "cell_type": "markdown",
   "metadata": {},
   "source": [
    "#### Check output for sample"
   ]
  },
  {
   "cell_type": "code",
   "execution_count": 97,
   "metadata": {},
   "outputs": [
    {
     "name": "stdout",
     "output_type": "stream",
     "text": [
      "10000/10000 [==============================] - 5s 532us/step\n",
      "\n",
      "Test result: 87.880 loss: 0.546\n",
      "Predicted label for test sample : 3\n",
      "Actual label for test sample : [3]\n"
     ]
    }
   ],
   "source": [
    "scores = model.evaluate(test_images, test_labels, batch_size=10)\n",
    "print('\\nTest result: %.3f loss: %.3f' % (scores[1]*100,scores[0]))\n",
    "predictions = model.predict(test_data)\n",
    "print(\"Predicted label for test sample :\",np.argmax(predictions[0]))\n",
    "expected_label = [i for i, j in enumerate(test_labels[0]) if j == max(test_labels[0])]\n",
    "print(\"Actual label for test sample :\", expected_label)"
   ]
  },
  {
   "cell_type": "code",
   "execution_count": null,
   "metadata": {},
   "outputs": [],
   "source": []
  }
 ],
 "metadata": {
  "kernelspec": {
   "display_name": "Python [conda env:tensorflow_p36]",
   "language": "python",
   "name": "conda-env-tensorflow_p36-py"
  },
  "language_info": {
   "codemirror_mode": {
    "name": "ipython",
    "version": 3
   },
   "file_extension": ".py",
   "mimetype": "text/x-python",
   "name": "python",
   "nbconvert_exporter": "python",
   "pygments_lexer": "ipython3",
   "version": "3.6.4"
  }
 },
 "nbformat": 4,
 "nbformat_minor": 2
}
